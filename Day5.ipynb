{
 "cells": [
  {
   "cell_type": "code",
   "execution_count": 3,
   "id": "589c86bb-b444-4d41-b1c3-1db2e7f5c15d",
   "metadata": {},
   "outputs": [
    {
     "name": "stdout",
     "output_type": "stream",
     "text": [
      "1\n",
      "2\n",
      "4\n",
      "5\n",
      "6\n",
      "7\n",
      "8\n",
      "9\n",
      "10\n"
     ]
    }
   ],
   "source": [
    "#Continue Statement\n",
    "x=0\n",
    "while x<10:\n",
    "    x+=1\n",
    "    if x==3:\n",
    "        continue\n",
    "    print(x)"
   ]
  },
  {
   "cell_type": "code",
   "execution_count": 7,
   "id": "f55d6d72-1a9d-4055-bb15-69b8fa10ba42",
   "metadata": {},
   "outputs": [
    {
     "name": "stdout",
     "output_type": "stream",
     "text": [
      "one\n",
      "two\n",
      "three\n"
     ]
    }
   ],
   "source": [
    "#For loop\n",
    "lst = ['one', 'two', 'three']\n",
    "for num in lst:\n",
    "  print(num)"
   ]
  },
  {
   "cell_type": "markdown",
   "id": "cda258d9-c5d4-4c8e-91bf-a85075f4e0b9",
   "metadata": {},
   "source": [
    "THE RANGE FUNCTION"
   ]
  },
  {
   "cell_type": "code",
   "execution_count": 8,
   "id": "70fbb881-bbff-4181-9e78-d5fb5f0cebad",
   "metadata": {},
   "outputs": [
    {
     "name": "stdout",
     "output_type": "stream",
     "text": [
      "p\n",
      "y\n",
      "t\n",
      "h\n",
      "o\n",
      "n\n"
     ]
    }
   ],
   "source": [
    "for i in 'python':\n",
    "    print(i)"
   ]
  },
  {
   "cell_type": "code",
   "execution_count": 9,
   "id": "e8afbcdb-8edc-456c-903f-61aa81d7e71b",
   "metadata": {},
   "outputs": [
    {
     "name": "stdout",
     "output_type": "stream",
     "text": [
      "0\n",
      "1\n",
      "2\n",
      "3\n",
      "4\n",
      "5\n"
     ]
    }
   ],
   "source": [
    "for i in range(6):\n",
    "    print(i)"
   ]
  },
  {
   "cell_type": "code",
   "execution_count": 10,
   "id": "8e862bd2-29a0-4f3b-ba0b-c8b205856fb3",
   "metadata": {},
   "outputs": [
    {
     "name": "stdout",
     "output_type": "stream",
     "text": [
      "2\n",
      "3\n",
      "4\n",
      "5\n"
     ]
    }
   ],
   "source": [
    "for i in range(2,6):\n",
    "    print(i)"
   ]
  },
  {
   "cell_type": "code",
   "execution_count": 12,
   "id": "df14ce51-958f-49f9-8024-94a4e190f52d",
   "metadata": {},
   "outputs": [
    {
     "name": "stdout",
     "output_type": "stream",
     "text": [
      "2\n",
      "5\n",
      "8\n"
     ]
    }
   ],
   "source": [
    "for i in range(2,10,3):\n",
    "    print(i)"
   ]
  },
  {
   "cell_type": "code",
   "execution_count": 1,
   "id": "8c1079db-9b8a-4e36-b4a3-9f789a631202",
   "metadata": {},
   "outputs": [
    {
     "name": "stdout",
     "output_type": "stream",
     "text": [
      "red chair\n",
      "red table\n",
      "red house\n",
      "blue chair\n",
      "blue table\n",
      "blue house\n",
      "green chair\n",
      "green table\n",
      "green house\n"
     ]
    }
   ],
   "source": [
    "#NESTED LOOP\n",
    "colors = ['red', 'blue', 'green']\n",
    "objects = ['chair', 'table', 'house']\n",
    "\n",
    "for i in colors:\n",
    "    for j in objects:\n",
    "        print(i,j)"
   ]
  },
  {
   "cell_type": "code",
   "execution_count": 40,
   "id": "b59afdf5-2856-44ab-805f-e4aac12a5929",
   "metadata": {},
   "outputs": [
    {
     "name": "stdout",
     "output_type": "stream",
     "text": [
      "1\n",
      "2\n",
      "3\n",
      "4\n",
      "5\n",
      "6\n",
      "7\n",
      "8\n",
      "9\n",
      "10\n",
      "2\n",
      "4\n",
      "6\n",
      "8\n",
      "10\n",
      "12\n",
      "14\n",
      "16\n",
      "18\n",
      "20\n",
      "3\n",
      "6\n",
      "9\n",
      "12\n",
      "15\n",
      "18\n",
      "21\n",
      "24\n",
      "27\n",
      "30\n",
      "4\n",
      "8\n",
      "12\n",
      "16\n",
      "20\n",
      "24\n",
      "28\n",
      "32\n",
      "36\n",
      "40\n",
      "5\n",
      "10\n",
      "15\n",
      "20\n",
      "25\n",
      "30\n",
      "35\n",
      "40\n",
      "45\n",
      "50\n",
      "\n"
     ]
    }
   ],
   "source": [
    "for i in range (1,6):\n",
    " for j in range (1,11):\n",
    "    print(i*j)\n",
    "print()"
   ]
  },
  {
   "cell_type": "markdown",
   "id": "0d111520-fb59-4df9-9538-813a9be3c3c1",
   "metadata": {},
   "source": [
    "PYTHON FUNCTIONS"
   ]
  },
  {
   "cell_type": "code",
   "execution_count": 14,
   "id": "62efe934-e5f0-48f2-8406-e9eb5a39ba51",
   "metadata": {},
   "outputs": [
    {
     "data": {
      "text/plain": [
       "11"
      ]
     },
     "execution_count": 14,
     "metadata": {},
     "output_type": "execute_result"
    }
   ],
   "source": [
    "#creating function\n",
    "def add(x, y):\n",
    "    return x+y\n",
    "add(5,6)"
   ]
  },
  {
   "cell_type": "code",
   "execution_count": 26,
   "id": "8fd096f8-f9f6-4f58-95e4-797c8a9d7e48",
   "metadata": {},
   "outputs": [
    {
     "ename": "TypeError",
     "evalue": "add() takes 2 positional arguments but 3 were given",
     "output_type": "error",
     "traceback": [
      "\u001b[1;31m---------------------------------------------------------------------------\u001b[0m",
      "\u001b[1;31mTypeError\u001b[0m                                 Traceback (most recent call last)",
      "Cell \u001b[1;32mIn[26], line 1\u001b[0m\n\u001b[1;32m----> 1\u001b[0m result\u001b[38;5;241m=\u001b[39madd(\u001b[38;5;241m2\u001b[39m,\u001b[38;5;241m3\u001b[39m,\u001b[38;5;241m5\u001b[39m)\n\u001b[0;32m      2\u001b[0m \u001b[38;5;28mprint\u001b[39m(result)\n",
      "\u001b[1;31mTypeError\u001b[0m: add() takes 2 positional arguments but 3 were given"
     ]
    }
   ],
   "source": [
    "result=add(2,3,5)\n",
    "print(result)"
   ]
  },
  {
   "cell_type": "code",
   "execution_count": 27,
   "id": "09319cf1-4bbd-4bd1-8da9-2107fc4ecad1",
   "metadata": {},
   "outputs": [
    {
     "ename": "TypeError",
     "evalue": "add() missing 1 required positional argument: 'y'",
     "output_type": "error",
     "traceback": [
      "\u001b[1;31m---------------------------------------------------------------------------\u001b[0m",
      "\u001b[1;31mTypeError\u001b[0m                                 Traceback (most recent call last)",
      "Cell \u001b[1;32mIn[27], line 1\u001b[0m\n\u001b[1;32m----> 1\u001b[0m result\u001b[38;5;241m=\u001b[39madd(\u001b[38;5;241m2\u001b[39m)\n\u001b[0;32m      2\u001b[0m \u001b[38;5;28mprint\u001b[39m(result)\n",
      "\u001b[1;31mTypeError\u001b[0m: add() missing 1 required positional argument: 'y'"
     ]
    }
   ],
   "source": [
    "result=add(2)\n",
    "print(result)"
   ]
  },
  {
   "cell_type": "code",
   "execution_count": 43,
   "id": "02b5c03d-498f-49ec-93c3-493df7055d61",
   "metadata": {},
   "outputs": [
    {
     "data": {
      "text/plain": [
       "8"
      ]
     },
     "execution_count": 43,
     "metadata": {},
     "output_type": "execute_result"
    }
   ],
   "source": [
    "def multiply(x,y,z):\n",
    "    return x*y*z\n",
    "multiply(2,2,2)"
   ]
  },
  {
   "cell_type": "code",
   "execution_count": 17,
   "id": "b43c6459-93ef-4436-858f-813b5ea6e103",
   "metadata": {},
   "outputs": [
    {
     "data": {
      "text/plain": [
       "29"
      ]
     },
     "execution_count": 17,
     "metadata": {},
     "output_type": "execute_result"
    }
   ],
   "source": [
    "#arbitary arguments(*args), less used\n",
    "def add(*nums):\n",
    "    sum=0\n",
    "    for i in nums:\n",
    "        sum += i\n",
    "    return sum\n",
    "add(1,2,3,23)"
   ]
  },
  {
   "cell_type": "code",
   "execution_count": 20,
   "id": "e1e8f4ec-b9fe-4140-b6f5-10b3fa467e1f",
   "metadata": {},
   "outputs": [
    {
     "data": {
      "text/plain": [
       "16"
      ]
     },
     "execution_count": 20,
     "metadata": {},
     "output_type": "execute_result"
    }
   ],
   "source": [
    "#default parameter value\n",
    "def multiply(x,y=3):\n",
    "    return x*y\n",
    "multiply(4,4) #x is 4 and y is 4"
   ]
  },
  {
   "cell_type": "code",
   "execution_count": 19,
   "id": "55aec317-d46f-4d9c-93b4-e57a484fec5e",
   "metadata": {},
   "outputs": [
    {
     "ename": "SyntaxError",
     "evalue": "parameter without a default follows parameter with a default (1611608967.py, line 1)",
     "output_type": "error",
     "traceback": [
      "\u001b[1;36m  Cell \u001b[1;32mIn[19], line 1\u001b[1;36m\u001b[0m\n\u001b[1;33m    def subtract(x=3,y):\u001b[0m\n\u001b[1;37m                     ^\u001b[0m\n\u001b[1;31mSyntaxError\u001b[0m\u001b[1;31m:\u001b[0m parameter without a default follows parameter with a default\n"
     ]
    }
   ],
   "source": [
    "def subtract(x=3,y):\n",
    "    return x-y\n",
    "subtract(4) #x is 4"
   ]
  },
  {
   "cell_type": "code",
   "execution_count": 21,
   "id": "761da32a-f43e-4147-8beb-5e6038062536",
   "metadata": {},
   "outputs": [
    {
     "data": {
      "text/plain": [
       "6"
      ]
     },
     "execution_count": 21,
     "metadata": {},
     "output_type": "execute_result"
    }
   ],
   "source": [
    "#Lambda fnx\n",
    "sum = lambda x,y,z: x+y+z\n",
    "sum(1,2,3)"
   ]
  },
  {
   "cell_type": "code",
   "execution_count": 22,
   "id": "58084255-3219-4b64-91f8-58b540ccd9db",
   "metadata": {},
   "outputs": [
    {
     "data": {
      "text/plain": [
       "2"
      ]
     },
     "execution_count": 22,
     "metadata": {},
     "output_type": "execute_result"
    }
   ],
   "source": [
    "sub=lambda x,y: x-y\n",
    "sub(4,2)"
   ]
  },
  {
   "cell_type": "markdown",
   "id": "e762d6ec-86f0-4b46-a605-c078c3c5dea8",
   "metadata": {},
   "source": [
    "PYTHON TUPLES,\n",
    "CAN STORE MULTIPLE VALUES IN SINGLE VARIABLE,\n",
    "ARE ENCLOSED BY PARENTHESIS(),\n",
    "IMMUTABLE(UNCHANGEABLE),\n",
    "ALLOWS DUPLICATE VALUES"
   ]
  },
  {
   "cell_type": "code",
   "execution_count": 23,
   "id": "ac2e7672-fa2b-4563-8c3a-c55818583a9f",
   "metadata": {},
   "outputs": [
    {
     "data": {
      "text/plain": [
       "('hi', 'hello', 3, 5)"
      ]
     },
     "execution_count": 23,
     "metadata": {},
     "output_type": "execute_result"
    }
   ],
   "source": [
    "my_tuple = ('hi', 'hello', 3, 5)\n",
    "my_tuple\n"
   ]
  },
  {
   "cell_type": "code",
   "execution_count": 24,
   "id": "36c508f2-30cb-4a18-985b-a0a4c1ab524b",
   "metadata": {},
   "outputs": [
    {
     "name": "stdout",
     "output_type": "stream",
     "text": [
      "hi\n",
      "hello\n",
      "3\n"
     ]
    }
   ],
   "source": [
    "print(my_tuple[0])\n",
    "print(my_tuple[1])\n",
    "print(my_tuple[2])"
   ]
  },
  {
   "cell_type": "code",
   "execution_count": 27,
   "id": "4410d362-53de-4c01-94ae-ea9c7ad27f3f",
   "metadata": {},
   "outputs": [
    {
     "data": {
      "text/plain": [
       "6"
      ]
     },
     "execution_count": 27,
     "metadata": {},
     "output_type": "execute_result"
    }
   ],
   "source": [
    "#duplicate items are allowed in tuple\n",
    "tuple_1= (1,4,6, 'apple', 'mango', 'apple')\n",
    "len(tuple_1)"
   ]
  },
  {
   "cell_type": "code",
   "execution_count": 29,
   "id": "c0fdcc08-edf2-4c78-81e1-c0b1f7d6b59d",
   "metadata": {},
   "outputs": [
    {
     "data": {
      "text/plain": [
       "str"
      ]
     },
     "execution_count": 29,
     "metadata": {},
     "output_type": "execute_result"
    }
   ],
   "source": [
    "tuple_1element= ('hello') #we have to use comma after the element in one element\n",
    "type(tuple_1element)"
   ]
  },
  {
   "cell_type": "code",
   "execution_count": 30,
   "id": "75fba107-9f41-468a-aef5-4640c311e708",
   "metadata": {},
   "outputs": [
    {
     "data": {
      "text/plain": [
       "tuple"
      ]
     },
     "execution_count": 30,
     "metadata": {},
     "output_type": "execute_result"
    }
   ],
   "source": [
    "tuple_1element= ('hello',) #we have to use comma after the element in one element\n",
    "type(tuple_1element)"
   ]
  },
  {
   "cell_type": "markdown",
   "id": "4fd40622-9f6f-4095-99ae-839aca1d4b29",
   "metadata": {},
   "source": [
    "#Accessing tuple items with indexing, negative indexing, range of indexes work just like in Lists."
   ]
  },
  {
   "cell_type": "code",
   "execution_count": 41,
   "id": "9e719736-5b7e-49ba-b2c3-4fc329c3ab69",
   "metadata": {},
   "outputs": [
    {
     "name": "stdout",
     "output_type": "stream",
     "text": [
      "my tuple [0] : 1\n",
      "my tuple [1] : 6\n",
      "my tuple [1:5] : (6, 8, 'hello', 'world')\n",
      "my tuple [-3:-1] : ('hello', 'world')\n",
      "my tuple [ :2]: (1, 6)\n",
      "my tuple [1: ]: (6, 8, 'hello', 'world', 8.2)\n"
     ]
    }
   ],
   "source": [
    "my_tuple = (1, 6, 8, 'hello', 'world', 8.2)\n",
    "print('my tuple [0] :', my_tuple[0])\n",
    "print('my tuple [1] :', my_tuple[1])\n",
    "print('my tuple [1:5] :' ,my_tuple[1:5])\n",
    "print('my tuple [-3:-1] :', my_tuple[-3:-1])\n",
    "print('my tuple [ :2]:', my_tuple[ :2])\n",
    "print('my tuple [1: ]:', my_tuple[1: ])"
   ]
  },
  {
   "cell_type": "code",
   "execution_count": 42,
   "id": "5329cf49-5fed-4a40-b2b4-9f7f3999aa52",
   "metadata": {},
   "outputs": [],
   "source": [
    "del my_tuple"
   ]
  },
  {
   "cell_type": "code",
   "execution_count": 44,
   "id": "6b63246c-8d57-4a01-beeb-839f7aaed139",
   "metadata": {},
   "outputs": [
    {
     "ename": "NameError",
     "evalue": "name 'my_tuple' is not defined",
     "output_type": "error",
     "traceback": [
      "\u001b[1;31m----------------------------------------------------------------\u001b[0m",
      "\u001b[1;31mNameError\u001b[0m                      Traceback (most recent call last)",
      "Cell \u001b[1;32mIn[44], line 1\u001b[0m\n\u001b[1;32m----> 1\u001b[0m my_tuple\n",
      "\u001b[1;31mNameError\u001b[0m: name 'my_tuple' is not defined"
     ]
    }
   ],
   "source": [
    "my_tuple #deleted so will get error"
   ]
  },
  {
   "cell_type": "markdown",
   "id": "a3aa6f26-0f6a-47f4-948e-12b47e10439b",
   "metadata": {},
   "source": [
    "unpack tuples : We can extract the values in tuples to variables. \n",
    "Remember to provide as many variables as there are values in the tuple."
   ]
  },
  {
   "cell_type": "code",
   "execution_count": 47,
   "id": "a2147f66-950d-4f50-97fe-a382e4a68d97",
   "metadata": {},
   "outputs": [
    {
     "name": "stdout",
     "output_type": "stream",
     "text": [
      "Sam\n",
      "Harry\n",
      "Tom\n"
     ]
    }
   ],
   "source": [
    "#unpack tuples\n",
    "student1, student2, student3 = (\"Sam\", \"Harry\", \"Tom\")\n",
    "print(student1)\n",
    "print(student2)\n",
    "print(student3)\n"
   ]
  },
  {
   "cell_type": "code",
   "execution_count": 48,
   "id": "bc526e31-ad6d-4a2e-bd68-a33e71a5300f",
   "metadata": {},
   "outputs": [
    {
     "name": "stdout",
     "output_type": "stream",
     "text": [
      "hello\n",
      "world\n"
     ]
    }
   ],
   "source": [
    "#loop through a tuple\n",
    "my_tuple = ('hello', 'world')\n",
    "\n",
    "for item in my_tuple:\n",
    "    print(item)"
   ]
  },
  {
   "cell_type": "code",
   "execution_count": 49,
   "id": "05eba604-a96e-44c2-9dab-b329f17db5f9",
   "metadata": {},
   "outputs": [
    {
     "name": "stdout",
     "output_type": "stream",
     "text": [
      "(1, 2, 3, 4, 5, 6, 7, 8, 9)\n"
     ]
    }
   ],
   "source": [
    "t1 = (1,2,3)\n",
    "t2 = (4,5,6)\n",
    "t3 = (7,8,9)\n",
    "print(t1 +t2 +t3)"
   ]
  },
  {
   "cell_type": "code",
   "execution_count": 51,
   "id": "dd25b575-c3ec-45a3-a835-f60bb001915c",
   "metadata": {},
   "outputs": [
    {
     "data": {
      "text/plain": [
       "(2, 3, 4, 2, 3, 4)"
      ]
     },
     "execution_count": 51,
     "metadata": {},
     "output_type": "execute_result"
    }
   ],
   "source": [
    "'''Multiply tuples\n",
    "You can multiply a tuple and an integer with a * operator.'''\n",
    "(2,3,4)*2"
   ]
  },
  {
   "cell_type": "code",
   "execution_count": null,
   "id": "23a26ced-faa7-4c13-8c4c-4b3f5897b412",
   "metadata": {},
   "outputs": [],
   "source": []
  }
 ],
 "metadata": {
  "kernelspec": {
   "display_name": "Python 3 (ipykernel)",
   "language": "python",
   "name": "python3"
  },
  "language_info": {
   "codemirror_mode": {
    "name": "ipython",
    "version": 3
   },
   "file_extension": ".py",
   "mimetype": "text/x-python",
   "name": "python",
   "nbconvert_exporter": "python",
   "pygments_lexer": "ipython3",
   "version": "3.12.4"
  }
 },
 "nbformat": 4,
 "nbformat_minor": 5
}
