{
 "cells": [
  {
   "cell_type": "code",
   "execution_count": 1,
   "id": "f4fc06b9-02d0-40fa-a458-c48d5fcc1484",
   "metadata": {},
   "outputs": [
    {
     "name": "stdout",
     "output_type": "stream",
     "text": [
      "Saturday\n",
      "Thursday\n"
     ]
    }
   ],
   "source": [
    "days_of_week=['Sunday', 'Monday', 'Tuesday', 'Wednesday', 'Thursday', 'Friday', 'Saturday']\n",
    "print(days_of_week[-1])\n",
    "print(days_of_week[-3])"
   ]
  },
  {
   "cell_type": "code",
   "execution_count": 2,
   "id": "cfcd837e-118d-43e5-8d71-935ae0aaa845",
   "metadata": {},
   "outputs": [
    {
     "data": {
      "text/plain": [
       "['Sunday', 'Monday', 'Tuesday', 'Wednesday', 'Thursday', 'Friday', 'Saturday']"
      ]
     },
     "execution_count": 2,
     "metadata": {},
     "output_type": "execute_result"
    }
   ],
   "source": [
    "#slicing\n",
    "days_of_week[2:4]\n",
    "days_of_week"
   ]
  },
  {
   "cell_type": "code",
   "execution_count": 3,
   "id": "efc5ac10-3e6a-4033-b2b0-171554a2bb38",
   "metadata": {},
   "outputs": [
    {
     "data": {
      "text/plain": [
       "['Sunday', 'Monday', 'Tuesday', 'Wednesday', 'Thursday', 'Friday', 'Saturday']"
      ]
     },
     "execution_count": 3,
     "metadata": {},
     "output_type": "execute_result"
    }
   ],
   "source": [
    "days_of_week[ :5]\n",
    "days_of_week"
   ]
  },
  {
   "cell_type": "code",
   "execution_count": 4,
   "id": "19e0e87b-60e8-4ca3-9722-055b46152c93",
   "metadata": {},
   "outputs": [
    {
     "data": {
      "text/plain": [
       "True"
      ]
     },
     "execution_count": 4,
     "metadata": {},
     "output_type": "execute_result"
    }
   ],
   "source": [
    "'Saturday' in days_of_week"
   ]
  },
  {
   "cell_type": "code",
   "execution_count": 5,
   "id": "a9a34ba3-ac1e-4231-80af-d0b9618c997c",
   "metadata": {},
   "outputs": [
    {
     "data": {
      "text/plain": [
       "['Sunday', 'Mon', 'Tuesday', 'Wednesday', 'Thursday', 'Friday', 'Saturday']"
      ]
     },
     "execution_count": 5,
     "metadata": {},
     "output_type": "execute_result"
    }
   ],
   "source": [
    "days_of_week[1]=\"Mon\"\n",
    "days_of_week"
   ]
  },
  {
   "cell_type": "code",
   "execution_count": 6,
   "id": "4545d412-307f-4462-bc5b-e7d4af752d79",
   "metadata": {},
   "outputs": [
    {
     "data": {
      "text/plain": [
       "['Sunday', 'Mon', 'Tue', 'Wed', 'Thursday', 'Friday', 'Saturday']"
      ]
     },
     "execution_count": 6,
     "metadata": {},
     "output_type": "execute_result"
    }
   ],
   "source": [
    "days_of_week[2:4]=['Tue', 'Wed']\n",
    "days_of_week"
   ]
  },
  {
   "cell_type": "code",
   "execution_count": 7,
   "id": "7bb0f3e9-4770-4d65-9232-f49e5550297e",
   "metadata": {},
   "outputs": [
    {
     "data": {
      "text/plain": [
       "['Sunday', 'Mon', 'Tue', 'Wed', 'Thursday', 'Fri', 'Sat', 'Saturday']"
      ]
     },
     "execution_count": 7,
     "metadata": {},
     "output_type": "execute_result"
    }
   ],
   "source": [
    "days_of_week[5:6]=['Fri','Sat'] #[5:6] is 5\n",
    "days_of_week"
   ]
  },
  {
   "cell_type": "code",
   "execution_count": 8,
   "id": "5032682d-23a8-4854-b0c5-f8721da0e388",
   "metadata": {},
   "outputs": [
    {
     "data": {
      "text/plain": [
       "['Sunday', 'Monday', 'Wed', 'Thursday', 'Fri', 'Sat', 'Saturday']"
      ]
     },
     "execution_count": 8,
     "metadata": {},
     "output_type": "execute_result"
    }
   ],
   "source": [
    "days_of_week[1:3]=['Monday'] #removes 1 and 2 and replace with Monday\n",
    "days_of_week"
   ]
  },
  {
   "cell_type": "code",
   "execution_count": 9,
   "id": "d7f10775-5781-45ac-902b-ba08df8b9a86",
   "metadata": {},
   "outputs": [
    {
     "data": {
      "text/plain": [
       "[1, 2, 3, 'end_of_list']"
      ]
     },
     "execution_count": 9,
     "metadata": {},
     "output_type": "execute_result"
    }
   ],
   "source": [
    "my_list=[1,2,3]\n",
    "my_list.insert(3,\"end_of_list\")\n",
    "my_list"
   ]
  },
  {
   "cell_type": "code",
   "execution_count": 10,
   "id": "7fbadad9-5dd4-498f-8bd1-86d6364ea601",
   "metadata": {},
   "outputs": [
    {
     "data": {
      "text/plain": [
       "[1, 2, 3, 4, 'end_of_list']"
      ]
     },
     "execution_count": 10,
     "metadata": {},
     "output_type": "execute_result"
    }
   ],
   "source": [
    "my_list.insert(3,4)\n",
    "my_list"
   ]
  },
  {
   "cell_type": "code",
   "execution_count": 11,
   "id": "582920fa-1e63-4dcf-b33e-a04cdb5277c8",
   "metadata": {},
   "outputs": [],
   "source": [
    "#append adds something at last"
   ]
  },
  {
   "cell_type": "code",
   "execution_count": 12,
   "id": "f6f6f606-8d36-4732-a90c-6ed028921710",
   "metadata": {},
   "outputs": [
    {
     "data": {
      "text/plain": [
       "[1, 2, 3, 4, 'end_of_list', 6]"
      ]
     },
     "execution_count": 12,
     "metadata": {},
     "output_type": "execute_result"
    }
   ],
   "source": [
    "my_list.append(6)\n",
    "my_list"
   ]
  },
  {
   "cell_type": "code",
   "execution_count": 13,
   "id": "fe8c1ddf-1165-427e-b530-c3c7433ac91d",
   "metadata": {},
   "outputs": [
    {
     "ename": "TypeError",
     "evalue": "list.append() takes exactly one argument (2 given)",
     "output_type": "error",
     "traceback": [
      "\u001b[1;31m---------------------------------------------------------------------------\u001b[0m",
      "\u001b[1;31mTypeError\u001b[0m                                 Traceback (most recent call last)",
      "Cell \u001b[1;32mIn[13], line 1\u001b[0m\n\u001b[1;32m----> 1\u001b[0m my_list\u001b[38;5;241m.\u001b[39mappend(\u001b[38;5;241m100\u001b[39m,\u001b[38;5;241m200\u001b[39m)\n\u001b[0;32m      2\u001b[0m my_list\n",
      "\u001b[1;31mTypeError\u001b[0m: list.append() takes exactly one argument (2 given)"
     ]
    }
   ],
   "source": [
    "my_list.append(100,200)\n",
    "my_list"
   ]
  },
  {
   "cell_type": "code",
   "execution_count": 14,
   "id": "1b38ccbf-076c-4f28-ab4a-e33c3a3912c3",
   "metadata": {},
   "outputs": [
    {
     "data": {
      "text/plain": [
       "[1, 2, 3, 4, 'end_of_list', 6, 100, 200]"
      ]
     },
     "execution_count": 14,
     "metadata": {},
     "output_type": "execute_result"
    }
   ],
   "source": [
    "list=[100,200]\n",
    "my_list.extend(list)\n",
    "my_list"
   ]
  },
  {
   "cell_type": "code",
   "execution_count": 15,
   "id": "8933534a-1e73-4c6c-8286-ab5f9c2aed13",
   "metadata": {},
   "outputs": [
    {
     "data": {
      "text/plain": [
       "[1, 2, 3, 4, 'end_of_list', 6, 100, 200, 300, 400]"
      ]
     },
     "execution_count": 15,
     "metadata": {},
     "output_type": "execute_result"
    }
   ],
   "source": [
    "list=[300,400]\n",
    "my_list.extend(list)\n",
    "my_list"
   ]
  },
  {
   "cell_type": "code",
   "execution_count": 16,
   "id": "4944cc0a-f790-4ecb-898c-4786bbc561c9",
   "metadata": {},
   "outputs": [
    {
     "data": {
      "text/plain": [
       "[1, 2, 3, 4, 'end_of_list', 6, 100, 300, 400]"
      ]
     },
     "execution_count": 16,
     "metadata": {},
     "output_type": "execute_result"
    }
   ],
   "source": [
    "my_list=[1, 2, 3, 4, 'end_of_list', 6, 100, 200, 300, 400]\n",
    "my_list.remove(200)\n",
    "my_list"
   ]
  },
  {
   "cell_type": "code",
   "execution_count": 17,
   "id": "71e3ebb7-5e62-4683-ab2c-069c138a693a",
   "metadata": {},
   "outputs": [
    {
     "data": {
      "text/plain": [
       "[1, 2, 3, 4, 'end_of_list', 6, 100, 400]"
      ]
     },
     "execution_count": 17,
     "metadata": {},
     "output_type": "execute_result"
    }
   ],
   "source": [
    "my_list.remove(300)\n",
    "my_list"
   ]
  },
  {
   "cell_type": "code",
   "execution_count": 18,
   "id": "e969ab1d-5bfd-4d71-a328-9f9a135be2ab",
   "metadata": {},
   "outputs": [
    {
     "data": {
      "text/plain": [
       "[1, 2, 4, 'end_of_list', 6, 100, 400]"
      ]
     },
     "execution_count": 18,
     "metadata": {},
     "output_type": "execute_result"
    }
   ],
   "source": [
    "my_list.pop(2) #it marks index i.e. position. if position is not given in pop it removes last value\n",
    "my_list"
   ]
  },
  {
   "cell_type": "code",
   "execution_count": 20,
   "id": "fb5d7058-a7af-4c3b-a382-0dbae9445113",
   "metadata": {},
   "outputs": [
    {
     "data": {
      "text/plain": [
       "[2, 4, 'end_of_list', 6, 100, 400]"
      ]
     },
     "execution_count": 20,
     "metadata": {},
     "output_type": "execute_result"
    }
   ],
   "source": [
    "del my_list[0:1]\n",
    "my_list"
   ]
  }
 ],
 "metadata": {
  "kernelspec": {
   "display_name": "Python 3 (ipykernel)",
   "language": "python",
   "name": "python3"
  },
  "language_info": {
   "codemirror_mode": {
    "name": "ipython",
    "version": 3
   },
   "file_extension": ".py",
   "mimetype": "text/x-python",
   "name": "python",
   "nbconvert_exporter": "python",
   "pygments_lexer": "ipython3",
   "version": "3.12.4"
  }
 },
 "nbformat": 4,
 "nbformat_minor": 5
}
