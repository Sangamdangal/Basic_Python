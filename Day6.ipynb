{
 "cells": [
  {
   "cell_type": "markdown",
   "id": "90c8448f-91ff-4a4e-982f-0a5638fd241e",
   "metadata": {},
   "source": [
    "PYTHON DICTIONARY\n",
    "stores data in the form of key, value pairs (key:value).\n",
    "orderes(have indexes), mutable(items can be changed, updated and deleted, do not allow duplicate keys"
   ]
  },
  {
   "cell_type": "code",
   "execution_count": 1,
   "id": "514806ca-5bb1-4ba3-9838-b9f3959efe92",
   "metadata": {},
   "outputs": [
    {
     "data": {
      "text/plain": [
       "{'Chicago': 3, 'New York': 4, 'LA': 6}"
      ]
     },
     "execution_count": 1,
     "metadata": {},
     "output_type": "execute_result"
    }
   ],
   "source": [
    "city= {\n",
    "    'Chicago': 3,\n",
    "    'New York': 4,\n",
    "    'LA': 6\n",
    "}\n",
    "city"
   ]
  },
  {
   "cell_type": "code",
   "execution_count": 3,
   "id": "f31ec814-6258-4719-aadd-6926f555faab",
   "metadata": {},
   "outputs": [
    {
     "data": {
      "text/plain": [
       "3"
      ]
     },
     "execution_count": 3,
     "metadata": {},
     "output_type": "execute_result"
    }
   ],
   "source": [
    "city[\"Chicago\"] #access dictionary items"
   ]
  },
  {
   "cell_type": "code",
   "execution_count": 4,
   "id": "4fb65bc8-dc08-49fd-86af-7d72d2f97133",
   "metadata": {},
   "outputs": [
    {
     "data": {
      "text/plain": [
       "6"
      ]
     },
     "execution_count": 4,
     "metadata": {},
     "output_type": "execute_result"
    }
   ],
   "source": [
    "city.get(\"LA\")"
   ]
  },
  {
   "cell_type": "code",
   "execution_count": 6,
   "id": "940a1acf-603e-4d06-8b2a-1cabee99c7bb",
   "metadata": {},
   "outputs": [
    {
     "data": {
      "text/plain": [
       "dict_keys(['Chicago', 'New York', 'LA'])"
      ]
     },
     "execution_count": 6,
     "metadata": {},
     "output_type": "execute_result"
    }
   ],
   "source": [
    "city.keys()"
   ]
  },
  {
   "cell_type": "code",
   "execution_count": 8,
   "id": "86097bc7-675a-403c-a740-d88e6f15a633",
   "metadata": {},
   "outputs": [
    {
     "data": {
      "text/plain": [
       "dict_values([3, 4, 6])"
      ]
     },
     "execution_count": 8,
     "metadata": {},
     "output_type": "execute_result"
    }
   ],
   "source": [
    "city.values()"
   ]
  },
  {
   "cell_type": "code",
   "execution_count": 15,
   "id": "40758d1e-736c-4a3e-bbd5-45e4302bb8cb",
   "metadata": {},
   "outputs": [
    {
     "data": {
      "text/plain": [
       "dict_items([('Chicago', 3), ('New York', 4), ('LA', 6)])"
      ]
     },
     "execution_count": 15,
     "metadata": {},
     "output_type": "execute_result"
    }
   ],
   "source": [
    "city.items() #the result will be a list of tuples, each tuple containing a pair of key and value"
   ]
  },
  {
   "cell_type": "code",
   "execution_count": 16,
   "id": "89b6e804-87b8-4cd0-866f-698cea457c77",
   "metadata": {},
   "outputs": [
    {
     "data": {
      "text/plain": [
       "True"
      ]
     },
     "execution_count": 16,
     "metadata": {},
     "output_type": "execute_result"
    }
   ],
   "source": [
    "'Chicago' in city"
   ]
  },
  {
   "cell_type": "code",
   "execution_count": 17,
   "id": "d9c7f491-42eb-458c-a9d2-344e2bafdc60",
   "metadata": {},
   "outputs": [
    {
     "data": {
      "text/plain": [
       "False"
      ]
     },
     "execution_count": 17,
     "metadata": {},
     "output_type": "execute_result"
    }
   ],
   "source": [
    "'Wales' in city"
   ]
  },
  {
   "cell_type": "markdown",
   "id": "1448e2f4-6ed1-4f47-a9c6-0b0dd8aedbfb",
   "metadata": {},
   "source": [
    "CHANGE DICTIONARY ITEMS"
   ]
  },
  {
   "cell_type": "code",
   "execution_count": 18,
   "id": "d4204fde-d97a-4305-bc44-9fcc4cba38ff",
   "metadata": {},
   "outputs": [
    {
     "data": {
      "text/plain": [
       "{'Chicago': 3, 'New York': 4, 'LA': 30}"
      ]
     },
     "execution_count": 18,
     "metadata": {},
     "output_type": "execute_result"
    }
   ],
   "source": [
    "# dict[ key ] = new value\n",
    "city['LA']= 30\n",
    "city"
   ]
  },
  {
   "cell_type": "code",
   "execution_count": 19,
   "id": "b3defb3b-32b5-44e5-b775-8868d4e04984",
   "metadata": {},
   "outputs": [
    {
     "data": {
      "text/plain": [
       "{'Chicago': 40, 'New York': 4, 'LA': 30}"
      ]
     },
     "execution_count": 19,
     "metadata": {},
     "output_type": "execute_result"
    }
   ],
   "source": [
    "#using update method\n",
    "city.update({'Chicago': 40})\n",
    "city"
   ]
  },
  {
   "cell_type": "code",
   "execution_count": 21,
   "id": "3b2eac66-6547-4f20-9f0c-9bfeb634aca1",
   "metadata": {},
   "outputs": [
    {
     "data": {
      "text/plain": [
       "{'Chicago': 40, 'New York': 4, 'LA': 30, 'Kathmandu': 22}"
      ]
     },
     "execution_count": 21,
     "metadata": {},
     "output_type": "execute_result"
    }
   ],
   "source": [
    "#adding items to dictionary\n",
    "city['Kathmandu']= 22\n",
    "city"
   ]
  },
  {
   "cell_type": "code",
   "execution_count": 23,
   "id": "6d6adfe2-1ff5-4107-a3c5-3b47b4fdd89d",
   "metadata": {},
   "outputs": [
    {
     "data": {
      "text/plain": [
       "{'Chicago': 40, 'New York': 4, 'LA': 30, 'Kathmandu': 22, 'Jhapa': 33}"
      ]
     },
     "execution_count": 23,
     "metadata": {},
     "output_type": "execute_result"
    }
   ],
   "source": [
    "#using update to add items to dict..\n",
    "city.update({\"Jhapa\": 33})\n",
    "city"
   ]
  },
  {
   "cell_type": "code",
   "execution_count": 27,
   "id": "54a5b9c1-100a-445e-a994-d6054c991e6c",
   "metadata": {},
   "outputs": [
    {
     "data": {
      "text/plain": [
       "{'Chicago': 40, 'New York': 4, 'LA': 30, 'Jhapa': 33}"
      ]
     },
     "execution_count": 27,
     "metadata": {},
     "output_type": "execute_result"
    }
   ],
   "source": [
    "#remove items\n",
    "city.pop('Kathmandu')\n",
    "city"
   ]
  },
  {
   "cell_type": "code",
   "execution_count": 28,
   "id": "a7f78bc3-2250-43f5-8342-6510a9153b5e",
   "metadata": {},
   "outputs": [
    {
     "data": {
      "text/plain": [
       "{'Chicago': 40, 'New York': 4, 'LA': 30}"
      ]
     },
     "execution_count": 28,
     "metadata": {},
     "output_type": "execute_result"
    }
   ],
   "source": [
    "del city['Jhapa']\n",
    "city"
   ]
  },
  {
   "cell_type": "code",
   "execution_count": 29,
   "id": "7e328d64-fd77-4aee-aa68-a4ce9cd5e0e2",
   "metadata": {},
   "outputs": [
    {
     "data": {
      "text/plain": [
       "{}"
      ]
     },
     "execution_count": 29,
     "metadata": {},
     "output_type": "execute_result"
    }
   ],
   "source": [
    "city.clear() #deletes all items\n",
    "city"
   ]
  },
  {
   "cell_type": "code",
   "execution_count": 30,
   "id": "ead76442-d81d-4fef-91e8-bda524d790f3",
   "metadata": {},
   "outputs": [],
   "source": [
    "del city"
   ]
  },
  {
   "cell_type": "code",
   "execution_count": 31,
   "id": "3b193852-820a-4e82-8285-b92d176e8489",
   "metadata": {},
   "outputs": [
    {
     "ename": "NameError",
     "evalue": "name 'city' is not defined",
     "output_type": "error",
     "traceback": [
      "\u001b[1;31m---------------------------------------------------------------------------\u001b[0m",
      "\u001b[1;31mNameError\u001b[0m                                 Traceback (most recent call last)",
      "Cell \u001b[1;32mIn[31], line 1\u001b[0m\n\u001b[1;32m----> 1\u001b[0m city\n",
      "\u001b[1;31mNameError\u001b[0m: name 'city' is not defined"
     ]
    }
   ],
   "source": [
    "city"
   ]
  },
  {
   "cell_type": "code",
   "execution_count": null,
   "id": "b69599b7-f8fa-48e5-a12e-d8b65b8c13fe",
   "metadata": {},
   "outputs": [],
   "source": []
  }
 ],
 "metadata": {
  "kernelspec": {
   "display_name": "Python 3 (ipykernel)",
   "language": "python",
   "name": "python3"
  },
  "language_info": {
   "codemirror_mode": {
    "name": "ipython",
    "version": 3
   },
   "file_extension": ".py",
   "mimetype": "text/x-python",
   "name": "python",
   "nbconvert_exporter": "python",
   "pygments_lexer": "ipython3",
   "version": "3.12.4"
  }
 },
 "nbformat": 4,
 "nbformat_minor": 5
}
