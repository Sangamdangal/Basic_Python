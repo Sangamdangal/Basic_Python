{
 "cells": [
  {
   "cell_type": "code",
   "execution_count": 1,
   "id": "a9048529-c8b7-4c63-b3f5-7eb384df9084",
   "metadata": {},
   "outputs": [
    {
     "data": {
      "text/plain": [
       "[5, 1, 4, 3]"
      ]
     },
     "execution_count": 1,
     "metadata": {},
     "output_type": "execute_result"
    }
   ],
   "source": [
    "my_list=[3,4,1,5]\n",
    "my_list.reverse()\n",
    "my_list"
   ]
  },
  {
   "cell_type": "code",
   "execution_count": 2,
   "id": "34d89c62-e8f2-4fdd-8b11-d3c9c09353cd",
   "metadata": {},
   "outputs": [
    {
     "name": "stdout",
     "output_type": "stream",
     "text": [
      "[1, 2, 4, 'HI', 'HELLO']\n"
     ]
    }
   ],
   "source": [
    "list1 = [1,2,4]\n",
    "list2 = ['HI', 'HELLO']\n",
    "list_12 = list1 + list2\n",
    "print(list_12)"
   ]
  },
  {
   "cell_type": "code",
   "execution_count": 3,
   "id": "a1855778-5532-42ea-8398-66d71f99de48",
   "metadata": {},
   "outputs": [
    {
     "data": {
      "text/plain": [
       "[1, 2, 4, 'HI', 'HELLO']"
      ]
     },
     "execution_count": 3,
     "metadata": {},
     "output_type": "execute_result"
    }
   ],
   "source": [
    "list1 = [1,2,4]\n",
    "list2 = ['HI', 'HELLO']\n",
    "list1.extend(list2)\n",
    "list1"
   ]
  },
  {
   "cell_type": "code",
   "execution_count": 4,
   "id": "25f9dbae-dacf-4064-97ea-e34569e2d1c4",
   "metadata": {},
   "outputs": [
    {
     "name": "stdout",
     "output_type": "stream",
     "text": [
      "x is greater than 4\n"
     ]
    }
   ],
   "source": [
    "x=10\n",
    "if x>4:\n",
    "    print('x is greater than 4')"
   ]
  },
  {
   "cell_type": "code",
   "execution_count": 5,
   "id": "f7f1300b-7c09-4bfa-9eff-2d560ab5a415",
   "metadata": {},
   "outputs": [
    {
     "name": "stdout",
     "output_type": "stream",
     "text": [
      "x is greater than 1\n"
     ]
    }
   ],
   "source": [
    "x=2\n",
    "if x>5:\n",
    "    print('x is greater than 5')\n",
    "elif x>3:\n",
    "    print('x is greater than 3')\n",
    "elif x>1:\n",
    "    print('x is greater than 1')\n",
    "else:\n",
    "    print('x is less than or equal to 1')"
   ]
  },
  {
   "cell_type": "code",
   "execution_count": 6,
   "id": "7120e41e-22ed-43b7-9e50-0e223413798f",
   "metadata": {},
   "outputs": [
    {
     "name": "stdout",
     "output_type": "stream",
     "text": [
      "x is not equal to 3\n"
     ]
    }
   ],
   "source": [
    "#shorthand if-elif\n",
    "x=3\n",
    "print('x is equal to 3') if x==2 else print('x is not equal to 3')"
   ]
  },
  {
   "cell_type": "code",
   "execution_count": 7,
   "id": "44b43592-fe72-461a-9fa0-489c10baed1c",
   "metadata": {},
   "outputs": [
    {
     "name": "stdin",
     "output_type": "stream",
     "text": [
      "please enter your age:  11\n"
     ]
    },
    {
     "name": "stdout",
     "output_type": "stream",
     "text": [
      "You cannot vote\n"
     ]
    }
   ],
   "source": [
    "age_input = input(\"please enter your age: \")\n",
    "age= int(age_input)\n",
    "if age==18:\n",
    "    print(\"Get citiznship to vote\")\n",
    "elif age<18:\n",
    "    print(\"You cannot vote\")\n",
    "elif age>18:\n",
    "    print(\"You can vote\")\n",
    "else:\n",
    "    print(\"InvalidZZZ\")"
   ]
  },
  {
   "cell_type": "code",
   "execution_count": 8,
   "id": "f0061b51-1086-4f9c-a5a2-dc8ee55a26fa",
   "metadata": {},
   "outputs": [
    {
     "name": "stdout",
     "output_type": "stream",
     "text": [
      "0\n",
      "1\n",
      "2\n",
      "3\n",
      "4\n"
     ]
    }
   ],
   "source": [
    "x=0\n",
    "while x<5:\n",
    "    print(x)\n",
    "    x += 1"
   ]
  },
  {
   "cell_type": "code",
   "execution_count": 11,
   "id": "bb720445-a2e7-49de-8a93-c5aafb714c37",
   "metadata": {},
   "outputs": [
    {
     "name": "stdout",
     "output_type": "stream",
     "text": [
      "0\n",
      "1\n",
      "2\n",
      "3\n"
     ]
    }
   ],
   "source": [
    "x=0\n",
    "while x<10:\n",
    "    print(x)\n",
    "    x += 1\n",
    "    if x == 4 :\n",
    "      break #intendent line is required"
   ]
  },
  {
   "cell_type": "code",
   "execution_count": null,
   "id": "bca7ec05-7bdc-46c6-837b-d3238ac692cc",
   "metadata": {},
   "outputs": [],
   "source": []
  }
 ],
 "metadata": {
  "kernelspec": {
   "display_name": "Python 3 (ipykernel)",
   "language": "python",
   "name": "python3"
  },
  "language_info": {
   "codemirror_mode": {
    "name": "ipython",
    "version": 3
   },
   "file_extension": ".py",
   "mimetype": "text/x-python",
   "name": "python",
   "nbconvert_exporter": "python",
   "pygments_lexer": "ipython3",
   "version": "3.12.4"
  }
 },
 "nbformat": 4,
 "nbformat_minor": 5
}
