{
 "cells": [
  {
   "cell_type": "markdown",
   "id": "d014e4a5-5623-4df3-92e7-059cea71cc01",
   "metadata": {},
   "source": [
    "FUNCTIONS AND CONDITIONAL STATEMENTS"
   ]
  },
  {
   "cell_type": "markdown",
   "id": "a6e62c76-4c5c-40a2-b8b8-beb01f9a5981",
   "metadata": {},
   "source": [
    "1. Define functions and returning values"
   ]
  },
  {
   "cell_type": "code",
   "execution_count": 2,
   "id": "dd99708f-2590-4259-b454-2b12199e48da",
   "metadata": {},
   "outputs": [
    {
     "name": "stdout",
     "output_type": "stream",
     "text": [
      "Black dove, where will you go?\n"
     ]
    }
   ],
   "source": [
    "# The print() function can print text to the screen.\n",
    "print('Black dove, where will you go?')"
   ]
  },
  {
   "cell_type": "code",
   "execution_count": 3,
   "id": "ce65f339-429a-4748-b2bd-eda5d9e8ce48",
   "metadata": {},
   "outputs": [
    {
     "data": {
      "text/plain": [
       "int"
      ]
     },
     "execution_count": 3,
     "metadata": {},
     "output_type": "execute_result"
    }
   ],
   "source": [
    "# The type() function returns an object's data type.\n",
    "number = 15\n",
    "type(number)"
   ]
  },
  {
   "cell_type": "code",
   "execution_count": 4,
   "id": "4f40e6f8-740c-499c-b226-bef63b51ef01",
   "metadata": {},
   "outputs": [
    {
     "data": {
      "text/plain": [
       "str"
      ]
     },
     "execution_count": 4,
     "metadata": {},
     "output_type": "execute_result"
    }
   ],
   "source": [
    "# The str() function converts an object into a string.\n",
    "number = str(number)\n",
    "type(number)"
   ]
  },
  {
   "cell_type": "code",
   "execution_count": 6,
   "id": "f48d2975-0308-4031-97c8-18f3b5ce1ba8",
   "metadata": {},
   "outputs": [
    {
     "name": "stdout",
     "output_type": "stream",
     "text": [
      "Welcome, Robin!\n",
      "You are part of the team!\n"
     ]
    }
   ],
   "source": [
    "#define a function\n",
    "def greeting(name):\n",
    "\n",
    "    print('Welcome, ' + name + '!')\n",
    "    print('You are part of the team!')\n",
    "\n",
    "greeting('Robin')"
   ]
  },
  {
   "cell_type": "code",
   "execution_count": 13,
   "id": "dffd344e-1639-4648-b3db-b781767be145",
   "metadata": {},
   "outputs": [
    {
     "data": {
      "text/plain": [
       "10.0"
      ]
     },
     "execution_count": 13,
     "metadata": {},
     "output_type": "execute_result"
    }
   ],
   "source": [
    " # Define a function to calculate the area of a triangle\n",
    "def area_triangle(base, height):\n",
    "    return base*height /2\n",
    "area_triangle(5,4)"
   ]
  },
  {
   "cell_type": "code",
   "execution_count": 14,
   "id": "e11ffe74-e23e-4219-9f29-34295c84576a",
   "metadata": {},
   "outputs": [
    {
     "data": {
      "text/plain": [
       "20.5"
      ]
     },
     "execution_count": 14,
     "metadata": {},
     "output_type": "execute_result"
    }
   ],
   "source": [
    "# Use the function to assign new variables and perform calculations.\n",
    "area_a = area_triangle(7,3)\n",
    "area_b = area_triangle(5,4)\n",
    "total_area = area_a + area_b\n",
    "total_area"
   ]
  },
  {
   "cell_type": "code",
   "execution_count": 25,
   "id": "b7af5162-de67-435d-b497-a7653bf92bfa",
   "metadata": {},
   "outputs": [],
   "source": [
    "# Define a function that converts hours, minutes, and seconds to total seconds.\n",
    "def get_seconds(hours, minutes, seconds):\n",
    "    total_seconds = 3600*hours + 60*minutes + seconds\n",
    "    return total_seconds"
   ]
  },
  {
   "cell_type": "code",
   "execution_count": 27,
   "id": "0a83aebd-6ae8-477f-81ef-58d65184ed57",
   "metadata": {},
   "outputs": [
    {
     "data": {
      "text/plain": [
       "9020"
      ]
     },
     "execution_count": 27,
     "metadata": {},
     "output_type": "execute_result"
    }
   ],
   "source": [
    "# Use the function to return a result.\n",
    "get_seconds(2, 30, 20)"
   ]
  },
  {
   "cell_type": "markdown",
   "id": "a140ead3-c70c-499a-a8bd-611cdd234b5c",
   "metadata": {},
   "source": [
    "2. Write clean code"
   ]
  },
  {
   "cell_type": "code",
   "execution_count": 35,
   "id": "57a727c4-a142-431b-8118-adbadba38cd2",
   "metadata": {},
   "outputs": [
    {
     "name": "stdout",
     "output_type": "stream",
     "text": [
      "Hello Sangam. Your lucky number is 54.\n",
      "Hello Marisol. Your lucky number is 63.\n"
     ]
    }
   ],
   "source": [
    "name = 'Sangam'\n",
    "number = len(name) *9\n",
    "print('Hello ' + name + '. Your lucky number is ' +str(number) + '.')\n",
    "\n",
    "name = 'Marisol'\n",
    "number = len(name)*9\n",
    "print('Hello ' + name + '. Your lucky number is ' +str(number) + '.')"
   ]
  },
  {
   "cell_type": "code",
   "execution_count": 36,
   "id": "aaa423a6-ff0d-4496-8597-0c085ecab37d",
   "metadata": {},
   "outputs": [
    {
     "name": "stdout",
     "output_type": "stream",
     "text": [
      "Hello Sangam. Your lucky number is 54.\n",
      "Hello Marisol. Your lucky number is 63.\n"
     ]
    }
   ],
   "source": [
    "# Define a function that simplifies the above code and makes it reusable.\n",
    "def lucky_number(name):\n",
    "    number = len(name)*9\n",
    "    print('Hello ' + name + '. Your lucky number is ' +str(number) + '.')\n",
    "\n",
    "lucky_number('Sangam')\n",
    "lucky_number('Marisol')"
   ]
  },
  {
   "cell_type": "code",
   "execution_count": 41,
   "id": "da2446fd-91c8-4ebd-b43a-6a4a3748f49b",
   "metadata": {},
   "outputs": [
    {
     "name": "stdin",
     "output_type": "stream",
     "text": [
      " 4\n"
     ]
    },
    {
     "name": "stdout",
     "output_type": "stream",
     "text": [
      "1\n",
      "2\n",
      "6\n",
      "24\n"
     ]
    }
   ],
   "source": [
    "# This code requests a number from the user and returns its factorial,\n",
    "# printing each iteration of the multiplication.\n",
    "a = input();\n",
    "y = 1\n",
    "for i in range(int(a)):\n",
    "    y= y*(i+1)\n",
    "    print(y)"
   ]
  },
  {
   "cell_type": "code",
   "execution_count": 46,
   "id": "24d7d825-443c-400c-a11a-99e730b4655b",
   "metadata": {},
   "outputs": [
    {
     "name": "stdin",
     "output_type": "stream",
     "text": [
      " 4\n"
     ]
    },
    {
     "name": "stdout",
     "output_type": "stream",
     "text": [
      "24\n"
     ]
    }
   ],
   "source": [
    "# This function takes an integer as an input and returns its factorial.\n",
    "def factorial(n):\n",
    "    y=1\n",
    "    for i in range(int(n)):\n",
    "        y=y*(i+1)\n",
    "    return y\n",
    "\n",
    "input_num = input()\n",
    "print(factorial(input_num))"
   ]
  },
  {
   "cell_type": "markdown",
   "id": "5927c017-86b0-416f-9b19-2cb5b8403a24",
   "metadata": {},
   "source": [
    "3. Use comments to scaffold your code"
   ]
  },
  {
   "cell_type": "code",
   "execution_count": 55,
   "id": "1c6d5159-025c-40b5-a205-661f7088e50f",
   "metadata": {},
   "outputs": [
    {
     "data": {
      "text/plain": [
       "3.92"
      ]
     },
     "execution_count": 55,
     "metadata": {},
     "output_type": "execute_result"
    }
   ],
   "source": [
    "def seed_calculator(fountain_side, grass_width):\n",
    "    \"\"\"\n",
    "Calculate number of kilograms of grass seed needed for\n",
    "a border around a square fountain.\n",
    "Parameters:\n",
    "fountain_side (num): length of 1 side of fountain in meters\n",
    "grass_width (num): width of grass border in meters\n",
    "Returns:\n",
    "seed (float): amount of seed (kg) needed for grass border\n",
    "\"\"\"\n",
    "# Area of fountain\n",
    "    fountain_area = fountain_side**2\n",
    "# Total area\n",
    "    total_area = (fountain_side + 2 * grass_width)**2\n",
    "# Area of grass border\n",
    "    grass_area = total_area - fountain_area\n",
    "# Amount of seed needed (35 g/sq.m)\n",
    "    seed = grass_area * 35\n",
    "# Convert to kg\n",
    "    seed = seed / 1000\n",
    "    return seed\n",
    "\n",
    "seed_calculator(12,2)"
   ]
  },
  {
   "cell_type": "markdown",
   "id": "87e59576-04e4-45f4-b7ea-5ec89ea06b9f",
   "metadata": {},
   "source": [
    "4. Make comparison using operators"
   ]
  },
  {
   "cell_type": "code",
   "execution_count": 57,
   "id": "372fe39f-3722-4d47-838a-d5b42faaf700",
   "metadata": {},
   "outputs": [
    {
     "name": "stdout",
     "output_type": "stream",
     "text": [
      "True\n"
     ]
    }
   ],
   "source": [
    "# > checks for greater than\n",
    "print(2>1)"
   ]
  },
  {
   "cell_type": "code",
   "execution_count": 58,
   "id": "0150f6b9-3f0b-4a19-bca5-9eeb6df3cd5f",
   "metadata": {},
   "outputs": [
    {
     "name": "stdout",
     "output_type": "stream",
     "text": [
      "False\n"
     ]
    }
   ],
   "source": [
    " # == checks for equality\n",
    "print(\"man\" == \"dog\")"
   ]
  },
  {
   "cell_type": "code",
   "execution_count": 59,
   "id": "e621fe1e-8ff8-49c3-a48b-53cfbd8bfbb4",
   "metadata": {},
   "outputs": [
    {
     "name": "stdout",
     "output_type": "stream",
     "text": [
      "False\n"
     ]
    }
   ],
   "source": [
    "# != checks for inequality\n",
    "print(2 != 2)"
   ]
  },
  {
   "cell_type": "code",
   "execution_count": 61,
   "id": "a31858f0-5c6c-417a-bc0c-42c46da6b08e",
   "metadata": {},
   "outputs": [
    {
     "ename": "TypeError",
     "evalue": "'<' not supported between instances of 'int' and 'str'",
     "output_type": "error",
     "traceback": [
      "\u001b[1;31m----------------------------------------------------------------\u001b[0m",
      "\u001b[1;31mTypeError\u001b[0m                      Traceback (most recent call last)",
      "Cell \u001b[1;32mIn[61], line 2\u001b[0m\n\u001b[0;32m      1\u001b[0m \u001b[38;5;66;03m# Some operators cannot be used between different data types.\u001b[39;00m\n\u001b[1;32m----> 2\u001b[0m \u001b[38;5;28mprint\u001b[39m(\u001b[38;5;241m2\u001b[39m \u001b[38;5;241m<\u001b[39m \u001b[38;5;124m\"\u001b[39m\u001b[38;5;124m5\u001b[39m\u001b[38;5;124m\"\u001b[39m)\n",
      "\u001b[1;31mTypeError\u001b[0m: '<' not supported between instances of 'int' and 'str'"
     ]
    }
   ],
   "source": [
    "# Some operators cannot be used between different data types.\n",
    "print(2 < \"5\")"
   ]
  },
  {
   "cell_type": "code",
   "execution_count": 67,
   "id": "97dd999a-aed2-41a6-a412-c4e1f70cb2d8",
   "metadata": {},
   "outputs": [
    {
     "name": "stdout",
     "output_type": "stream",
     "text": [
      "True\n",
      "False\n"
     ]
    }
   ],
   "source": [
    "# Letters that occur earlier in the alphabet evaluate to less than letters from␣later in the alphabet.\n",
    "# BOTH sides of an `and` statement must be true to return True.\n",
    "print(\"Yellow\" > \"Cyan\")\n",
    "print(\"Brown\" > \"Magenta\")"
   ]
  },
  {
   "cell_type": "code",
   "execution_count": 68,
   "id": "7af21152-d575-4006-9216-d0728afb6c87",
   "metadata": {},
   "outputs": [
    {
     "name": "stdout",
     "output_type": "stream",
     "text": [
      "True\n"
     ]
    }
   ],
   "source": [
    "# An `or` statement will return True if EITHER side evaluates to True.\n",
    "print(22 > 43 or 2 != 5)"
   ]
  },
  {
   "cell_type": "code",
   "execution_count": 70,
   "id": "e1e3a2b0-3e21-4755-b668-fe956f45d907",
   "metadata": {},
   "outputs": [
    {
     "name": "stdout",
     "output_type": "stream",
     "text": [
      "True\n"
     ]
    }
   ],
   "source": [
    "# `not` reverses Boolean evaluation of what follows it.\n",
    "print(not 55 == \"Answer\")"
   ]
  },
  {
   "cell_type": "markdown",
   "id": "1b20649b-25e0-49da-91f5-261b4c0b78d3",
   "metadata": {},
   "source": [
    "5. Use if/elif/else statements to make decisions"
   ]
  },
  {
   "cell_type": "code",
   "execution_count": 82,
   "id": "fee88a8c-d7f3-4dc3-af37-50c5a03bcef5",
   "metadata": {},
   "outputs": [
    {
     "name": "stdout",
     "output_type": "stream",
     "text": [
      "Valid username.\n"
     ]
    }
   ],
   "source": [
    "# Define a function that checks validity of username based on length.\n",
    "def hint_username(username):\n",
    "    if len(username)<8:\n",
    "        print('Invalid username. Must be at least 8 characters long.')\n",
    "    else:\n",
    "        print('Valid username.')\n",
    "\n",
    "hint_username('kdcfjgvn')"
   ]
  },
  {
   "cell_type": "code",
   "execution_count": 80,
   "id": "97ba97f5-e72a-45c1-a58a-582cfb8a8c66",
   "metadata": {},
   "outputs": [
    {
     "data": {
      "text/plain": [
       "True"
      ]
     },
     "execution_count": 80,
     "metadata": {},
     "output_type": "execute_result"
    }
   ],
   "source": [
    "# Define a function that uses modulo to check if a number is even.\n",
    "def is_even(number):\n",
    "    if number % 2 ==0:\n",
    "        return True\n",
    "    return False\n",
    "\n",
    "is_even(22)"
   ]
  },
  {
   "cell_type": "code",
   "execution_count": 83,
   "id": "7680a8fa-faab-4fc9-aaab-d847560674a5",
   "metadata": {},
   "outputs": [
    {
     "name": "stdout",
     "output_type": "stream",
     "text": [
      "Valid username.\n"
     ]
    }
   ],
   "source": [
    "# Define a function that checks validity of username based on length.\n",
    "def in_username(username):\n",
    "    if len(username)<8:\n",
    "        print(\"Invalid username. Must be at least 8 characters long.\")\n",
    "    if len(username)<15:\n",
    "        print(\"Invalid username. Cannot exceed 15 characters.\")\n",
    "    else:\n",
    "        print(\"Valid username.\")\n",
    "\n",
    "in_username('mynameissangamdangal')\n"
   ]
  },
  {
   "cell_type": "code",
   "execution_count": null,
   "id": "36d6567d-92c0-48de-a07d-f56feba000ef",
   "metadata": {},
   "outputs": [],
   "source": []
  }
 ],
 "metadata": {
  "kernelspec": {
   "display_name": "Python 3 (ipykernel)",
   "language": "python",
   "name": "python3"
  },
  "language_info": {
   "codemirror_mode": {
    "name": "ipython",
    "version": 3
   },
   "file_extension": ".py",
   "mimetype": "text/x-python",
   "name": "python",
   "nbconvert_exporter": "python",
   "pygments_lexer": "ipython3",
   "version": "3.12.4"
  }
 },
 "nbformat": 4,
 "nbformat_minor": 5
}
