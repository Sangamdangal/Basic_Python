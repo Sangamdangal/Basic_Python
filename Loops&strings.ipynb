{
 "cells": [
  {
   "cell_type": "markdown",
   "id": "cd004f85-1551-40a1-ba51-2c7d6ee47ab5",
   "metadata": {},
   "source": [
    "1. Introduction to while loops"
   ]
  },
  {
   "cell_type": "code",
   "execution_count": 4,
   "id": "dcf79f06-1949-4d13-ab99-32841b6c6600",
   "metadata": {},
   "outputs": [
    {
     "name": "stdout",
     "output_type": "stream",
     "text": [
      "Not there yet, x=0\n",
      "x=1\n",
      "Not there yet, x=1\n",
      "x=2\n",
      "Not there yet, x=2\n",
      "x=3\n",
      "Not there yet, x=3\n",
      "x=4\n",
      "Not there yet, x=4\n",
      "x=5\n"
     ]
    }
   ],
   "source": [
    "#instantiate a counter\n",
    "x=0\n",
    "\n",
    "#create a while loop that prits \"not there yet,\" increments x by 1, and prints x untill x reaches 5\n",
    "while x<5:\n",
    "    print('Not there yet, x=' +str(x))\n",
    "    x=x+1\n",
    "    print('x=' +str(x))"
   ]
  },
  {
   "cell_type": "code",
   "execution_count": 14,
   "id": "b4982d73-0441-4939-899d-03a6ef62adcc",
   "metadata": {},
   "outputs": [
    {
     "name": "stdout",
     "output_type": "stream",
     "text": [
      "Guess the number between 1 to 25: \n"
     ]
    },
    {
     "name": "stdin",
     "output_type": "stream",
     "text": [
      " 12\n"
     ]
    },
    {
     "name": "stdout",
     "output_type": "stream",
     "text": [
      "Nope! Try again.\n",
      "Guess the number between 1 to 25: \n"
     ]
    },
    {
     "name": "stdin",
     "output_type": "stream",
     "text": [
      " 14\n"
     ]
    },
    {
     "name": "stdout",
     "output_type": "stream",
     "text": [
      "Correct! You guessed the number in 2 tries!\n"
     ]
    }
   ],
   "source": [
    "#Import the random module to be able to create a (pseudo) random number.\n",
    "import random\n",
    "\n",
    "number = random.randint(1,25)  #randint generates random num\n",
    "number_of_guesses = 0         #instantiate guess counter\n",
    "\n",
    "while number_of_guesses < 5:\n",
    "    print('Guess the number between 1 to 25: ') #tells user to guess num\n",
    "    guess = input()                             #produces a user input field\n",
    "    guess = int(guess)                          #converts guess to int\n",
    "    number_of_guesses += 1                      #incerement guess count by 1\n",
    "\n",
    "    if guess == number:          #break while loop if guess is correct\n",
    "        break\n",
    "    elif number_of_guesses == 5:  #break while loop if guess limit reached\n",
    "        break\n",
    "    else:\n",
    "        print('Nope! Try again.')\n",
    "\n",
    "#message to display if correct\n",
    "if guess == number:\n",
    "    print('Correct! You guessed the number in ' +str(number_of_guesses) +' tries!')\n",
    "\n",
    "#message to display after 5 unsuccessful guesses\n",
    "else:\n",
    "    print('You did not guess the number. The number was ' +str(number) +'.')\n",
    "\n"
   ]
  },
  {
   "cell_type": "markdown",
   "id": "0d8612c3-fc3a-4230-ad68-14bcad79cb03",
   "metadata": {},
   "source": [
    "2. INTRODUCTION TO FOR LOOPS"
   ]
  },
  {
   "cell_type": "code",
   "execution_count": 18,
   "id": "ddc3e160-ad0f-4b9f-9454-457c211b90df",
   "metadata": {},
   "outputs": [
    {
     "name": "stdout",
     "output_type": "stream",
     "text": [
      "0\n",
      "1\n",
      "2\n",
      "3\n"
     ]
    }
   ],
   "source": [
    "#example of for loop with range() function\n",
    "for x in range(4):\n",
    "  print(x)"
   ]
  },
  {
   "cell_type": "code",
   "execution_count": 19,
   "id": "219ea6fa-258d-412e-825a-343998991be4",
   "metadata": {},
   "outputs": [
    {
     "name": "stdout",
     "output_type": "stream",
     "text": [
      "A text file in Python is simply a file that contains plain text data. Python provides various ways to work with text files for reading, writing, and manipulating data.\n",
      "\n",
      "I'm done.\n"
     ]
    }
   ],
   "source": [
    "#reading a .txt file with a for loop\n",
    "with open('python.txt') as f:\n",
    "    for line in f:\n",
    "        print(line)\n",
    "print('\\nI\\'m done.')"
   ]
  },
  {
   "cell_type": "markdown",
   "id": "f53113ed-c0f2-4cfc-acdd-49dce3b26bf3",
   "metadata": {},
   "source": [
    "3. LOOPS WITH MULTIPLE RANGE PARAMETERS"
   ]
  },
  {
   "cell_type": "code",
   "execution_count": 22,
   "id": "6c8cd3ca-1225-4411-a6be-afd5791574b4",
   "metadata": {},
   "outputs": [
    {
     "name": "stdout",
     "output_type": "stream",
     "text": [
      "362880\n"
     ]
    }
   ],
   "source": [
    "#use a for loop to calculate 9!\n",
    "factorial = 1\n",
    "for n in range(1,10):\n",
    "    factorial*=n\n",
    "print(factorial)"
   ]
  },
  {
   "cell_type": "code",
   "execution_count": 28,
   "id": "33cc5d5b-d1f8-4348-bf80-8fe6e1632390",
   "metadata": {},
   "outputs": [
    {
     "name": "stdout",
     "output_type": "stream",
     "text": [
      "0 -17.77777777777778\n",
      "10 -12.222222222222221\n",
      "20 -6.666666666666667\n",
      "30 -1.1111111111111112\n",
      "40 4.444444444444445\n",
      "50 10.0\n",
      "60 15.555555555555555\n",
      "70 21.11111111111111\n",
      "80 26.666666666666668\n",
      "90 32.22222222222222\n",
      "100 37.77777777777778\n"
     ]
    }
   ],
   "source": [
    "# Define a function that converts Fahrenheit to Celsius.\n",
    "def to_celsius(x): #x is fahrenheit\n",
    "      return (x-32)* 5/9\n",
    "\n",
    "# Create a table of Celsius-->Fahrenheit conversions every 10 degrees, 0-100\n",
    "for x in range(0,101,10):\n",
    "     print(x, to_celsius(x))"
   ]
  },
  {
   "cell_type": "markdown",
   "id": "b9c1035c-a6b7-4b88-a940-f3bd44663976",
   "metadata": {},
   "source": [
    "4. WORK WITH STRINGS"
   ]
  },
  {
   "cell_type": "code",
   "execution_count": 34,
   "id": "14b1fdbc-a283-4e97-8988-026ed4342550",
   "metadata": {},
   "outputs": [
    {
     "data": {
      "text/plain": [
       "'HelloWorld'"
      ]
     },
     "execution_count": 34,
     "metadata": {},
     "output_type": "execute_result"
    }
   ],
   "source": [
    "'Hello' + 'World' #combines them"
   ]
  },
  {
   "cell_type": "code",
   "execution_count": 31,
   "id": "4f40b687-e103-4366-8820-e00589a09fe2",
   "metadata": {},
   "outputs": [
    {
     "data": {
      "text/plain": [
       "'Hello World'"
      ]
     },
     "execution_count": 31,
     "metadata": {},
     "output_type": "execute_result"
    }
   ],
   "source": [
    "'Hello ' + 'World' # Blank space (\"whitespace\") is its own character."
   ]
  },
  {
   "cell_type": "code",
   "execution_count": 35,
   "id": "ca2c54e4-13f5-416b-855e-02021ca21cc2",
   "metadata": {},
   "outputs": [
    {
     "data": {
      "text/plain": [
       "'Hello World'"
      ]
     },
     "execution_count": 35,
     "metadata": {},
     "output_type": "execute_result"
    }
   ],
   "source": [
    "'Hello' + ' ' + 'World' # Including a whitespace when combining strings"
   ]
  },
  {
   "cell_type": "code",
   "execution_count": 39,
   "id": "178d2348-4f78-4ff7-99a2-c00554ca922f",
   "metadata": {},
   "outputs": [
    {
     "data": {
      "text/plain": [
       "'Hello World'"
      ]
     },
     "execution_count": 39,
     "metadata": {},
     "output_type": "execute_result"
    }
   ],
   "source": [
    "greet_1 = 'Hello '\n",
    "greet_2 = 'World'\n",
    "greet_1 + greet_2"
   ]
  },
  {
   "cell_type": "code",
   "execution_count": 42,
   "id": "dc8503d1-9eb4-4357-b5fa-5d141d3976da",
   "metadata": {},
   "outputs": [
    {
     "data": {
      "text/plain": [
       "'Help! Help! Help! '"
      ]
     },
     "execution_count": 42,
     "metadata": {},
     "output_type": "execute_result"
    }
   ],
   "source": [
    "help = 'Help! ' #strings can be multiplied by integers\n",
    "help * 3"
   ]
  },
  {
   "cell_type": "code",
   "execution_count": 43,
   "id": "e95ddc0d-19b5-4143-a2a1-b90fbce0252b",
   "metadata": {},
   "outputs": [
    {
     "ename": "TypeError",
     "evalue": "unsupported operand type(s) for -: 'str' and 'int'",
     "output_type": "error",
     "traceback": [
      "\u001b[1;31m---------------------------------------------------------------------------\u001b[0m",
      "\u001b[1;31mTypeError\u001b[0m                                 Traceback (most recent call last)",
      "Cell \u001b[1;32mIn[43], line 1\u001b[0m\n\u001b[1;32m----> 1\u001b[0m help \u001b[38;5;241m-\u001b[39m \u001b[38;5;241m2\u001b[39m\n",
      "\u001b[1;31mTypeError\u001b[0m: unsupported operand type(s) for -: 'str' and 'int'"
     ]
    }
   ],
   "source": [
    "help - 2 # Strings cannot be used with subtraction or division."
   ]
  },
  {
   "cell_type": "code",
   "execution_count": 44,
   "id": "87eaef1b-711a-45ed-be6b-6c841fc6b0bd",
   "metadata": {},
   "outputs": [
    {
     "name": "stdout",
     "output_type": "stream",
     "text": [
      "'Thanks for downloading python'\n"
     ]
    }
   ],
   "source": [
    "# Alternate single and double quotes to include one or the other in your string.\n",
    "welcome = \"'Thanks for downloading python'\"\n",
    "print(welcome)"
   ]
  },
  {
   "cell_type": "code",
   "execution_count": 47,
   "id": "8eec7915-b224-499c-99cd-304d5a6715ee",
   "metadata": {},
   "outputs": [
    {
     "name": "stdout",
     "output_type": "stream",
     "text": [
      "'Thanks fo downloading python'\n"
     ]
    }
   ],
   "source": [
    "# \\ is an escape character that modifies the character that follows it.\n",
    "welcome = \"\\'Thanks fo downloading python\\'\"\n",
    "print(welcome)"
   ]
  },
  {
   "cell_type": "code",
   "execution_count": 50,
   "id": "50697302-8ade-440c-8bfe-8eac9e31061c",
   "metadata": {},
   "outputs": [
    {
     "name": "stdout",
     "output_type": "stream",
     "text": [
      "Have a good day,\n",
      "sir.\n"
     ]
    }
   ],
   "source": [
    "# \\n creates a newline.\n",
    "greet = 'Have a good day,\\nsir.'\n",
    "print(greet)"
   ]
  },
  {
   "cell_type": "code",
   "execution_count": 53,
   "id": "9bfecb0a-326f-4e34-8fe0-4b93fc8db074",
   "metadata": {},
   "outputs": [
    {
     "name": "stdout",
     "output_type": "stream",
     "text": [
      "\\n It represents a newline in Python.\n"
     ]
    }
   ],
   "source": [
    " # Using escape character (\\) lets you express the newline symbol within a string.\n",
    "new_line = \"\\\\n It represents a newline in Python.\"\n",
    "print(new_line)"
   ]
  },
  {
   "cell_type": "code",
   "execution_count": 55,
   "id": "b9c5f830-0e05-45e4-99d6-f35a42b288e3",
   "metadata": {},
   "outputs": [
    {
     "name": "stdout",
     "output_type": "stream",
     "text": [
      "Put\n",
      "yut\n",
      "tut\n",
      "hut\n",
      "out\n",
      "nut\n"
     ]
    }
   ],
   "source": [
    " # You can loop over strings.\n",
    "python = \"Python\"\n",
    "for letter in python:\n",
    "    print(letter +'ut')"
   ]
  },
  {
   "cell_type": "markdown",
   "id": "97947086-6973-4d8e-9103-1312cad44ddd",
   "metadata": {},
   "source": [
    "5. STRING SLICING"
   ]
  },
  {
   "cell_type": "code",
   "execution_count": 57,
   "id": "3b21d787-c805-45e3-8156-05a41ab9e179",
   "metadata": {},
   "outputs": [
    {
     "data": {
      "text/plain": [
       "3"
      ]
     },
     "execution_count": 57,
     "metadata": {},
     "output_type": "execute_result"
    }
   ],
   "source": [
    "# The index() method returns index of character's first occurrence in string.\n",
    "Mindrisers = \"Putalisadak\"\n",
    "Mindrisers.index(\"a\")"
   ]
  },
  {
   "cell_type": "code",
   "execution_count": 58,
   "id": "da303b4e-056f-44f6-ac87-e2131055cd80",
   "metadata": {},
   "outputs": [
    {
     "ename": "NameError",
     "evalue": "name 'Mindrsers' is not defined",
     "output_type": "error",
     "traceback": [
      "\u001b[1;31m---------------------------------------------------------------------------\u001b[0m",
      "\u001b[1;31mNameError\u001b[0m                                 Traceback (most recent call last)",
      "Cell \u001b[1;32mIn[58], line 2\u001b[0m\n\u001b[0;32m      1\u001b[0m \u001b[38;5;66;03m# The index() method will throw an error if character is not in string\u001b[39;00m\n\u001b[1;32m----> 2\u001b[0m Mindrsers\u001b[38;5;241m.\u001b[39mindex(\u001b[38;5;124m\"\u001b[39m\u001b[38;5;124mx\u001b[39m\u001b[38;5;124m\"\u001b[39m)\n",
      "\u001b[1;31mNameError\u001b[0m: name 'Mindrsers' is not defined"
     ]
    }
   ],
   "source": [
    "# The index() method will throw an error if character is not in string\n",
    "Mindrsers.index(\"x\")"
   ]
  },
  {
   "cell_type": "code",
   "execution_count": 59,
   "id": "427e2c36-5702-4ea1-9d44-5fd6cc960317",
   "metadata": {},
   "outputs": [
    {
     "data": {
      "text/plain": [
       "'n'"
      ]
     },
     "execution_count": 59,
     "metadata": {},
     "output_type": "execute_result"
    }
   ],
   "source": [
    "# Access the character at a given index of a string.\n",
    "name = 'Mindrisers'\n",
    "name[2]"
   ]
  },
  {
   "cell_type": "code",
   "execution_count": 60,
   "id": "fa0ab744-8439-4cfd-b71e-b05870474bc6",
   "metadata": {},
   "outputs": [
    {
     "data": {
      "text/plain": [
       "'M'"
      ]
     },
     "execution_count": 60,
     "metadata": {},
     "output_type": "execute_result"
    }
   ],
   "source": [
    "# Access the character at a given index of a string.\n",
    "name[0]"
   ]
  },
  {
   "cell_type": "code",
   "execution_count": 62,
   "id": "2302074e-8c32-4733-b85e-08b075086ff1",
   "metadata": {},
   "outputs": [
    {
     "ename": "IndexError",
     "evalue": "string index out of range",
     "output_type": "error",
     "traceback": [
      "\u001b[1;31m---------------------------------------------------------------------------\u001b[0m",
      "\u001b[1;31mIndexError\u001b[0m                                Traceback (most recent call last)",
      "Cell \u001b[1;32mIn[62], line 2\u001b[0m\n\u001b[0;32m      1\u001b[0m \u001b[38;5;66;03m# Indices that are out of range will return an IndexError.\u001b[39;00m\n\u001b[1;32m----> 2\u001b[0m name[\u001b[38;5;241m10\u001b[39m]\n",
      "\u001b[1;31mIndexError\u001b[0m: string index out of range"
     ]
    }
   ],
   "source": [
    "# Indices that are out of range will return an IndexError.\n",
    "name[10]"
   ]
  },
  {
   "cell_type": "code",
   "execution_count": 63,
   "id": "29ced04e-1e82-442d-ba92-a239332cf5c2",
   "metadata": {},
   "outputs": [
    {
     "data": {
      "text/plain": [
       "'s'"
      ]
     },
     "execution_count": 63,
     "metadata": {},
     "output_type": "execute_result"
    }
   ],
   "source": [
    "# Negative indexing begins at the end of the string.\n",
    "name[-1]"
   ]
  },
  {
   "cell_type": "code",
   "execution_count": 64,
   "id": "f5e6d0d6-165b-4338-8221-a80b9f1e5411",
   "metadata": {},
   "outputs": [
    {
     "data": {
      "text/plain": [
       "'r'"
      ]
     },
     "execution_count": 64,
     "metadata": {},
     "output_type": "execute_result"
    }
   ],
   "source": [
    "# Negative indexing begins at the end of the string.\n",
    "name[-2]"
   ]
  },
  {
   "cell_type": "code",
   "execution_count": 65,
   "id": "cea16443-4503-4906-ac3c-735c15864a7c",
   "metadata": {},
   "outputs": [
    {
     "data": {
      "text/plain": [
       "'rang'"
      ]
     },
     "execution_count": 65,
     "metadata": {},
     "output_type": "execute_result"
    }
   ],
   "source": [
    "# Access a substring by using a slice.\n",
    "fruit = 'Orange'\n",
    "fruit[1:5]"
   ]
  },
  {
   "cell_type": "code",
   "execution_count": 68,
   "id": "dca3f1c2-24ad-4ae8-83ca-31e687100130",
   "metadata": {},
   "outputs": [
    {
     "data": {
      "text/plain": [
       "'Orange'"
      ]
     },
     "execution_count": 68,
     "metadata": {},
     "output_type": "execute_result"
    }
   ],
   "source": [
    "# Omitting the first value of the slice implies a value of 0.\n",
    "fruit[ :6]"
   ]
  },
  {
   "cell_type": "code",
   "execution_count": 69,
   "id": "88dd524e-c25f-422d-96ae-793f6c7f4019",
   "metadata": {},
   "outputs": [
    {
     "data": {
      "text/plain": [
       "'Orange'"
      ]
     },
     "execution_count": 69,
     "metadata": {},
     "output_type": "execute_result"
    }
   ],
   "source": [
    "# Omitting the last value of the slice implies a value of len(string)\n",
    "fruit[0: ]"
   ]
  },
  {
   "cell_type": "code",
   "execution_count": 71,
   "id": "5a7f3233-4ccf-4304-9476-5b16131add64",
   "metadata": {},
   "outputs": [
    {
     "data": {
      "text/plain": [
       "False"
      ]
     },
     "execution_count": 71,
     "metadata": {},
     "output_type": "execute_result"
    }
   ],
   "source": [
    "#The `in` keyword returns Boolean of whether substring is in string.\n",
    "'banana' in fruit"
   ]
  },
  {
   "cell_type": "code",
   "execution_count": 76,
   "id": "1ce2ad00-704a-4db6-8ed7-191c3deb8234",
   "metadata": {},
   "outputs": [
    {
     "data": {
      "text/plain": [
       "True"
      ]
     },
     "execution_count": 76,
     "metadata": {},
     "output_type": "execute_result"
    }
   ],
   "source": [
    "# The `in` keyword returns Boolean of whether substring is in string.\n",
    "'ange' in fruit #ange in Orange"
   ]
  },
  {
   "cell_type": "markdown",
   "id": "2eb067c0-6db3-4693-a21d-ba7348b41877",
   "metadata": {},
   "source": [
    "6. FORMAT STRINGS"
   ]
  },
  {
   "cell_type": "code",
   "execution_count": 85,
   "id": "7d93f749-daf5-4474-a1f1-a3f3a253c506",
   "metadata": {},
   "outputs": [
    {
     "name": "stdout",
     "output_type": "stream",
     "text": [
      "Hello Sangam your lucky number is 22.\n"
     ]
    }
   ],
   "source": [
    "# Use format() method to insert values into your string, indicated by braces.\n",
    "name = 'Sangam'\n",
    "num = 22\n",
    "print(\"Hello {} your lucky number is {}.\".format(name,num))"
   ]
  },
  {
   "cell_type": "code",
   "execution_count": 93,
   "id": "8ad556b0-21dd-4342-a977-d89e8090647b",
   "metadata": {},
   "outputs": [
    {
     "name": "stdout",
     "output_type": "stream",
     "text": [
      "Hello Sangam, your lucky number is 22.\n"
     ]
    }
   ],
   "source": [
    "# You can assign names to designate how you want values to be inserted.\n",
    "name = 'Sangam'\n",
    "number = 22\n",
    "print('Hello {name}, your lucky number is {num}.'.format(name=name,num=number))"
   ]
  },
  {
   "cell_type": "code",
   "execution_count": 95,
   "id": "7ef812ef-ca07-4a7c-aeca-886a0109b481",
   "metadata": {},
   "outputs": [
    {
     "name": "stdout",
     "output_type": "stream",
     "text": [
      "Hello Sangam, your lucky number is 22.\n"
     ]
    }
   ],
   "source": [
    "# You can use argument indices to designate how you want values to be inserted.\n",
    "print('Hello {1}, your lucky number is {0}.'.format(number, name))"
   ]
  },
  {
   "cell_type": "code",
   "execution_count": 114,
   "id": "b87c40bb-0422-4d0c-866e-7e9f708dfaaa",
   "metadata": {},
   "outputs": [
    {
     "name": "stdout",
     "output_type": "stream",
     "text": [
      "Base price is Rs7.75 INR. \n",
      "With_tax price is Rs13.0975 INR.\n"
     ]
    }
   ],
   "source": [
    "# Example inserting prices into string\n",
    "price = float(7.75)\n",
    "with_tax = price * float(1.69)\n",
    "print(\"Base price is Rs{} INR. \\nWith_tax price is Rs{} INR.\".format(price, with_tax))"
   ]
  },
  {
   "cell_type": "code",
   "execution_count": 118,
   "id": "76904b13-55f2-47a4-91da-3ac8ba855488",
   "metadata": {},
   "outputs": [
    {
     "name": "stdout",
     "output_type": "stream",
     "text": [
      "Base price is Rs7.75INR. \n",
      "With_tax is Rs13.10INR.\n"
     ]
    }
   ],
   "source": [
    "# Use :.2f to round a float value to two places beyond the decimal\n",
    "print(\"Base price is Rs{:.2f}INR. \\nWith_tax is Rs{:.2f}INR.\".format(price, with_tax))"
   ]
  },
  {
   "cell_type": "code",
   "execution_count": 129,
   "id": "1f34a52a-03d1-4dc0-a0c6-b17568ed461d",
   "metadata": {},
   "outputs": [
    {
     "name": "stdout",
     "output_type": "stream",
     "text": [
      "  0 F | -17.78 C\n",
      " 10 F | -12.22 C\n",
      " 20 F |  -6.67 C\n",
      " 30 F |  -1.11 C\n",
      " 40 F |   4.44 C\n",
      " 50 F |  10.00 C\n",
      " 60 F |  15.56 C\n",
      " 70 F |  21.11 C\n",
      " 80 F |  26.67 C\n",
      " 90 F |  32.22 C\n",
      "100 F |  37.78 C\n"
     ]
    }
   ],
   "source": [
    "# Define a function that converts Fahrenheit to Celsius.\n",
    "def to_cel(far):\n",
    "    return (far-32)* 5/9\n",
    "# Create a temperature conversion table using string formatting\n",
    "for far in range(0,101,10):\n",
    "    print(\"{:>3} F | {:>6.2f} C\".format(far, to_cel(far))) #>3 or >6 makes number in same order"
   ]
  }
 ],
 "metadata": {
  "kernelspec": {
   "display_name": "Python 3 (ipykernel)",
   "language": "python",
   "name": "python3"
  },
  "language_info": {
   "codemirror_mode": {
    "name": "ipython",
    "version": 3
   },
   "file_extension": ".py",
   "mimetype": "text/x-python",
   "name": "python",
   "nbconvert_exporter": "python",
   "pygments_lexer": "ipython3",
   "version": "3.12.4"
  }
 },
 "nbformat": 4,
 "nbformat_minor": 5
}
