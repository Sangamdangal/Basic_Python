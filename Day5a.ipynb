{
 "cells": [
  {
   "cell_type": "markdown",
   "id": "2d2e37c5-d0bd-4f28-853b-dc3ea3913b80",
   "metadata": {},
   "source": [
    "PYTHON SETS\n",
    "Unordered, unindexed(as opposed to list and tuples, which are indexed), do not allows duplicate values, immutable(elements cannot be changed,removes or updated), enclosed by curly brackets. "
   ]
  },
  {
   "cell_type": "code",
   "execution_count": 1,
   "id": "7e82dcb1-9dff-43e7-b7dd-bf6a09390be8",
   "metadata": {},
   "outputs": [
    {
     "data": {
      "text/plain": [
       "{1, 2, 'hello', 'world'}"
      ]
     },
     "execution_count": 1,
     "metadata": {},
     "output_type": "execute_result"
    }
   ],
   "source": [
    "my_set = {1, 2, 'hello', 'world'}\n",
    "my_set"
   ]
  },
  {
   "cell_type": "code",
   "execution_count": 2,
   "id": "257a1f07-6055-4ddc-a685-281901a7b6a5",
   "metadata": {},
   "outputs": [
    {
     "data": {
      "text/plain": [
       "{1, 2, 'hello', 'world'}"
      ]
     },
     "execution_count": 2,
     "metadata": {},
     "output_type": "execute_result"
    }
   ],
   "source": [
    "my_set = {1,2,1,'hello', 'world', 'hello'}\n",
    "my_set"
   ]
  },
  {
   "cell_type": "code",
   "execution_count": 3,
   "id": "5af30bc2-2bad-443e-947c-ab2ca8ccd2c1",
   "metadata": {},
   "outputs": [
    {
     "data": {
      "text/plain": [
       "4"
      ]
     },
     "execution_count": 3,
     "metadata": {},
     "output_type": "execute_result"
    }
   ],
   "source": [
    "len(my_set)"
   ]
  },
  {
   "cell_type": "code",
   "execution_count": 4,
   "id": "728f8f9a-519c-456f-9837-8faa8b3983a8",
   "metadata": {},
   "outputs": [
    {
     "name": "stdout",
     "output_type": "stream",
     "text": [
      "world\n",
      "1\n",
      "2\n",
      "hello\n"
     ]
    }
   ],
   "source": [
    "#Access set items\n",
    "for i in my_set:\n",
    "    print(i)"
   ]
  },
  {
   "cell_type": "code",
   "execution_count": 5,
   "id": "f7a41e49-43d7-466f-8401-91b4c374cad2",
   "metadata": {},
   "outputs": [
    {
     "data": {
      "text/plain": [
       "True"
      ]
     },
     "execution_count": 5,
     "metadata": {},
     "output_type": "execute_result"
    }
   ],
   "source": [
    "1 in my_set"
   ]
  },
  {
   "cell_type": "code",
   "execution_count": 6,
   "id": "8b0d13e3-d5c1-4a29-aae8-335abcc6a1e0",
   "metadata": {},
   "outputs": [
    {
     "data": {
      "text/plain": [
       "False"
      ]
     },
     "execution_count": 6,
     "metadata": {},
     "output_type": "execute_result"
    }
   ],
   "source": [
    "\"hey\" in my_set"
   ]
  },
  {
   "cell_type": "code",
   "execution_count": 7,
   "id": "37e6a94a-89e7-4b64-ba8d-2464ffb0f3af",
   "metadata": {},
   "outputs": [
    {
     "data": {
      "text/plain": [
       "{1, 2, 'hello', 'python', 'world'}"
      ]
     },
     "execution_count": 7,
     "metadata": {},
     "output_type": "execute_result"
    }
   ],
   "source": [
    "#add items in my_set\n",
    "my_set.add('python')\n",
    "my_set"
   ]
  },
  {
   "cell_type": "code",
   "execution_count": 8,
   "id": "b7539e35-c4a2-4bef-bd39-83552c4d9605",
   "metadata": {},
   "outputs": [
    {
     "data": {
      "text/plain": [
       "{1, 2, 'hello', 'hi', 'python', 'sam', 'world'}"
      ]
     },
     "execution_count": 8,
     "metadata": {},
     "output_type": "execute_result"
    }
   ],
   "source": [
    "#update() method, can add items from another set\n",
    "new_set = {'hi', 'sam'}\n",
    "my_set.update(new_set)\n",
    "my_set"
   ]
  },
  {
   "cell_type": "code",
   "execution_count": 10,
   "id": "64b28dcf-6592-4910-8f2d-064d101a1a04",
   "metadata": {},
   "outputs": [
    {
     "data": {
      "text/plain": [
       "{1, 2, 'four', 'three'}"
      ]
     },
     "execution_count": 10,
     "metadata": {},
     "output_type": "execute_result"
    }
   ],
   "source": [
    "# using update() with a lis\n",
    "my_set = {1,2}\n",
    "lst = [\"three\", \"four\"]\n",
    "my_set.update(lst)\n",
    "my_set"
   ]
  },
  {
   "cell_type": "code",
   "execution_count": 11,
   "id": "6d3aa6fa-bfaa-4ec2-b508-dd63b4194d94",
   "metadata": {},
   "outputs": [
    {
     "data": {
      "text/plain": [
       "{1, 2, 'one', 'two'}"
      ]
     },
     "execution_count": 11,
     "metadata": {},
     "output_type": "execute_result"
    }
   ],
   "source": [
    "#using update with a tuple\n",
    "lst = {1,2}\n",
    "znd = ('one', 'two')\n",
    "lst.update(znd)\n",
    "lst"
   ]
  },
  {
   "cell_type": "code",
   "execution_count": null,
   "id": "241dd619-def7-4fb5-bf71-6378354590f2",
   "metadata": {},
   "outputs": [],
   "source": []
  }
 ],
 "metadata": {
  "kernelspec": {
   "display_name": "Python 3 (ipykernel)",
   "language": "python",
   "name": "python3"
  },
  "language_info": {
   "codemirror_mode": {
    "name": "ipython",
    "version": 3
   },
   "file_extension": ".py",
   "mimetype": "text/x-python",
   "name": "python",
   "nbconvert_exporter": "python",
   "pygments_lexer": "ipython3",
   "version": "3.12.4"
  }
 },
 "nbformat": 4,
 "nbformat_minor": 5
}
