{
 "cells": [
  {
   "cell_type": "markdown",
   "id": "8decf285-f285-44b7-8e3c-664c66f82170",
   "metadata": {},
   "source": [
    "TUPLES"
   ]
  },
  {
   "cell_type": "markdown",
   "id": "6ad52de9-a578-40d1-a485-60e63fe844cd",
   "metadata": {},
   "source": [
    "Create a tuple, called \"Cars\", with elements \"BMW\", \"Dodge\", and \"Ford\". "
   ]
  },
  {
   "cell_type": "code",
   "execution_count": 1,
   "id": "8b29c090-fa83-41ba-b37a-59ad431182e4",
   "metadata": {},
   "outputs": [],
   "source": [
    "Cars = (\"BMW\", \"Dodge\", \"Ford\")"
   ]
  },
  {
   "cell_type": "markdown",
   "id": "c511e96d-b26f-409e-a668-06dab7d44f66",
   "metadata": {},
   "source": [
    "Access the second element of this tuple."
   ]
  },
  {
   "cell_type": "code",
   "execution_count": 2,
   "id": "5c2e0060-ee3e-4a23-b5a0-fe90770801fe",
   "metadata": {},
   "outputs": [
    {
     "name": "stdout",
     "output_type": "stream",
     "text": [
      "Dodge\n"
     ]
    }
   ],
   "source": [
    "print(Cars[1])"
   ]
  },
  {
   "cell_type": "markdown",
   "id": "5b3d807e-b5db-46ed-bc02-02795e44a57d",
   "metadata": {},
   "source": [
    "Call a method that would allow you to extract the provided name and age separately. Then print the \"name\" and \"age\" values to see if you worked correctly."
   ]
  },
  {
   "cell_type": "code",
   "execution_count": 3,
   "id": "128cc927-f06f-4fda-99a0-3d96d1e4e2e7",
   "metadata": {},
   "outputs": [
    {
     "name": "stdout",
     "output_type": "stream",
     "text": [
      "Name: Peter\n",
      "Age: 24\n"
     ]
    }
   ],
   "source": [
    "data = 'Peter,24' #original string\n",
    "\n",
    "name, age = data.split(',') #split the string into a list based on the comma\n",
    "print(\"Name:\", name)\n",
    "print(\"Age:\", age)"
   ]
  },
  {
   "cell_type": "markdown",
   "id": "d6f77813-18f2-471f-9ef6-10386c078d85",
   "metadata": {},
   "source": [
    "Create a function that takes as arguments the two values of a rectangle and then returns the Area and the Perimeter of the rectangle.\r\n",
    "Call the function with arguments 2 and 10 to verify it worked correctly."
   ]
  },
  {
   "cell_type": "code",
   "execution_count": 4,
   "id": "7a8a3f16-2540-4591-b3e2-36a51e141a19",
   "metadata": {},
   "outputs": [
    {
     "name": "stdout",
     "output_type": "stream",
     "text": [
      "Area:  20\n",
      "Perimeter:  24\n"
     ]
    }
   ],
   "source": [
    "def rectangle(width, height):\n",
    "    area= width*height\n",
    "    perimeter= 2*(width+height)\n",
    "    return area, perimeter\n",
    "area, perimeter= rectangle(2,10)\n",
    "print(\"Area: \", area)\n",
    "print(\"Perimeter: \", perimeter)"
   ]
  },
  {
   "cell_type": "markdown",
   "id": "ef689077-9231-4345-bb7a-eb461d9566cc",
   "metadata": {},
   "source": [
    "FOR LOOPS"
   ]
  },
  {
   "cell_type": "markdown",
   "id": "9718c758-b239-46b0-884c-a6acdd83e616",
   "metadata": {},
   "source": [
    "Create a for loop that prints every digit on a new line."
   ]
  },
  {
   "cell_type": "code",
   "execution_count": 5,
   "id": "9585e475-1254-4f6a-b002-8bf77ac9e3af",
   "metadata": {},
   "outputs": [
    {
     "name": "stdout",
     "output_type": "stream",
     "text": [
      "0\n",
      "1\n",
      "2\n",
      "3\n",
      "4\n",
      "5\n",
      "6\n",
      "7\n",
      "8\n",
      "9\n"
     ]
    }
   ],
   "source": [
    "digits = [0,1,2,3,4,5,6,7,8,9]\n",
    "\n",
    "for digit in digits:\n",
    "  print(digit)"
   ]
  },
  {
   "cell_type": "markdown",
   "id": "2f22dd2a-9f18-4553-b889-d1591d8f3fb9",
   "metadata": {},
   "source": [
    "Adjust the code, so the digits are all printed on the same line."
   ]
  },
  {
   "cell_type": "code",
   "execution_count": 6,
   "id": "82600088-44ed-4486-a8bc-e928c72b5e00",
   "metadata": {},
   "outputs": [
    {
     "name": "stdout",
     "output_type": "stream",
     "text": [
      "0123456789"
     ]
    }
   ],
   "source": [
    "for digit in digits:\n",
    "  print(digit, end='')"
   ]
  },
  {
   "cell_type": "markdown",
   "id": "8bac2b34-9a84-4065-8a56-d2b69f283794",
   "metadata": {},
   "source": [
    "DICTIONARIES"
   ]
  },
  {
   "cell_type": "markdown",
   "id": "7c244812-b031-4d9b-8e82-a8411db0d7d4",
   "metadata": {},
   "source": [
    "This is the menu of a close restaurant:"
   ]
  },
  {
   "cell_type": "code",
   "execution_count": 7,
   "id": "2103c0b7-ec21-49cf-87b1-567d2e8232b1",
   "metadata": {},
   "outputs": [],
   "source": [
    "Menu = {\n",
    "    'meal_1': 'Spaghetti',\n",
    "    'meal_2': 'Fries',\n",
    "    'meal_3': 'Hamburger',\n",
    "    'meal_4': 'Lasagna'}"
   ]
  },
  {
   "cell_type": "markdown",
   "id": "303189e7-5a71-4846-a3e3-bacdca179093",
   "metadata": {},
   "source": [
    "What is the second meal in the list?"
   ]
  },
  {
   "cell_type": "code",
   "execution_count": 8,
   "id": "2f0cbf82-1e97-4687-a198-3041011cab5c",
   "metadata": {},
   "outputs": [
    {
     "data": {
      "text/plain": [
       "'Fries'"
      ]
     },
     "execution_count": 8,
     "metadata": {},
     "output_type": "execute_result"
    }
   ],
   "source": [
    "Menu[\"meal_2\"]"
   ]
  },
  {
   "cell_type": "markdown",
   "id": "b4df5bf4-d6c8-49d6-a618-54ad3b90d867",
   "metadata": {},
   "source": [
    "Add a new meal- \"Soup\"."
   ]
  },
  {
   "cell_type": "code",
   "execution_count": 9,
   "id": "95c3cc14-60a6-4413-a20c-ef03a927106e",
   "metadata": {},
   "outputs": [
    {
     "data": {
      "text/plain": [
       "{'meal_1': 'Spaghetti',\n",
       " 'meal_2': 'Fries',\n",
       " 'meal_3': 'Hamburger',\n",
       " 'meal_4': 'Lasagna',\n",
       " 'meal_5': 'Soup'}"
      ]
     },
     "execution_count": 9,
     "metadata": {},
     "output_type": "execute_result"
    }
   ],
   "source": [
    "Menu['meal_5'] = 'Soup'\n",
    "Menu"
   ]
  },
  {
   "cell_type": "markdown",
   "id": "a5fda664-b658-4b11-be07-12020d9f59ba",
   "metadata": {},
   "source": [
    "Replace the Hamburger with a Cheeseburger"
   ]
  },
  {
   "cell_type": "code",
   "execution_count": 10,
   "id": "650f5f6a-7fa3-43cc-b5cb-cc233901852c",
   "metadata": {},
   "outputs": [
    {
     "data": {
      "text/plain": [
       "{'meal_1': 'Spaghetti',\n",
       " 'meal_2': 'Fries',\n",
       " 'meal_3': 'Cheeseburger',\n",
       " 'meal_4': 'Lasagna',\n",
       " 'meal_5': 'Soup'}"
      ]
     },
     "execution_count": 10,
     "metadata": {},
     "output_type": "execute_result"
    }
   ],
   "source": [
    "Menu.update({'meal_3' : 'Cheeseburger'})\n",
    "Menu"
   ]
  },
  {
   "cell_type": "markdown",
   "id": "06d49d8d-75a2-49b8-91ad-51451ad1af0d",
   "metadata": {},
   "source": [
    "Add the Desserts list in the form of sixth meal."
   ]
  },
  {
   "cell_type": "code",
   "execution_count": 11,
   "id": "e78a9411-b498-4f6e-b5d2-7a335f2c34dc",
   "metadata": {},
   "outputs": [
    {
     "data": {
      "text/plain": [
       "{'meal_1': 'Spaghetti',\n",
       " 'meal_2': 'Fries',\n",
       " 'meal_3': 'Cheeseburger',\n",
       " 'meal_4': 'Lasagna',\n",
       " 'meal_5': 'Soup',\n",
       " 'meal_6': ['Pancakes', 'Icecream', 'Tiramisu']}"
      ]
     },
     "execution_count": 11,
     "metadata": {},
     "output_type": "execute_result"
    }
   ],
   "source": [
    "Dessert = ['Pancakes', 'Icecream', 'Tiramisu']\n",
    "Menu['meal_6']= Dessert\n",
    "Menu"
   ]
  },
  {
   "cell_type": "markdown",
   "id": "090c2d93-9f95-45cb-a243-2feed8672f8c",
   "metadata": {},
   "source": [
    "Create a new dictionary that contains the first five meals as keys and assign the following five values as prices (in dollars):\n",
    "10, 5, 8, 12, 5. \n",
    "Start by *Price_list = {}*."
   ]
  },
  {
   "cell_type": "code",
   "execution_count": 12,
   "id": "6a48f461-e407-468f-8b38-5060a024ce3d",
   "metadata": {},
   "outputs": [
    {
     "data": {
      "text/plain": [
       "{'meal_1': '$10',\n",
       " 'meal_2': '$5',\n",
       " 'meal_3': '$8',\n",
       " 'meal_4': '$12',\n",
       " 'meal_5': '$5'}"
      ]
     },
     "execution_count": 12,
     "metadata": {},
     "output_type": "execute_result"
    }
   ],
   "source": [
    "Price_list = {}\n",
    "meals = ['meal_1', 'meal_2', 'meal_3', 'meal_4', 'meal_5']\n",
    "prices = ['$10', '$5', '$8', '$12', '$5']\n",
    "\n",
    "for i in range(len(meals)):\n",
    "  Price_list[meals[i]] = prices[i]\n",
    "\n",
    "Price_list"
   ]
  },
  {
   "cell_type": "markdown",
   "id": "66818b51-6946-450e-a634-5d0a9c82277f",
   "metadata": {},
   "source": [
    "Use the get method to check the price of spaghetti."
   ]
  },
  {
   "cell_type": "code",
   "execution_count": 13,
   "id": "f2684035-574f-4193-9a42-d22e93c9682d",
   "metadata": {},
   "outputs": [
    {
     "data": {
      "text/plain": [
       "'$10'"
      ]
     },
     "execution_count": 13,
     "metadata": {},
     "output_type": "execute_result"
    }
   ],
   "source": [
    "Price_list.get('meal_1')"
   ]
  },
  {
   "cell_type": "markdown",
   "id": "dd61e21a-e0e0-41e8-84d5-c795c4307128",
   "metadata": {},
   "source": [
    "LIST SLICING"
   ]
  },
  {
   "cell_type": "code",
   "execution_count": 14,
   "id": "bbc0d556-551d-4ab6-a866-809a3f497c75",
   "metadata": {},
   "outputs": [],
   "source": [
    "Numbers = [15, 40, 50, 100, 115, 140]"
   ]
  },
  {
   "cell_type": "markdown",
   "id": "63bb8455-deea-4b45-ae81-3d3c14b729ff",
   "metadata": {},
   "source": [
    "Using list slicing, obtain the numbers 100 and 115."
   ]
  },
  {
   "cell_type": "code",
   "execution_count": 15,
   "id": "df37f54c-f726-468f-a159-7be315569f1e",
   "metadata": {},
   "outputs": [
    {
     "data": {
      "text/plain": [
       "[100, 115]"
      ]
     },
     "execution_count": 15,
     "metadata": {},
     "output_type": "execute_result"
    }
   ],
   "source": [
    "slicing = Numbers[3:5]\n",
    "slicing"
   ]
  },
  {
   "cell_type": "markdown",
   "id": "5cc64af9-f3de-427a-8edd-48a489129779",
   "metadata": {},
   "source": [
    "Using slicing, extract the first four elements from the list."
   ]
  },
  {
   "cell_type": "code",
   "execution_count": 16,
   "id": "ad0fe36d-1441-4540-b9bb-7d28cd1ce880",
   "metadata": {},
   "outputs": [
    {
     "data": {
      "text/plain": [
       "[15, 40, 50, 100]"
      ]
     },
     "execution_count": 16,
     "metadata": {},
     "output_type": "execute_result"
    }
   ],
   "source": [
    "slicing = Numbers[ :4]\n",
    "slicing"
   ]
  },
  {
   "cell_type": "markdown",
   "id": "235bbdb9-b4b9-49ca-8325-5c9c3a1546d2",
   "metadata": {},
   "source": [
    "Using slicing, extract all the elements from the list from the 3rd position onwards."
   ]
  },
  {
   "cell_type": "code",
   "execution_count": 17,
   "id": "cbdb210b-e45a-4bcf-afe6-a02d301bfde1",
   "metadata": {},
   "outputs": [
    {
     "data": {
      "text/plain": [
       "[50, 100, 115, 140]"
      ]
     },
     "execution_count": 17,
     "metadata": {},
     "output_type": "execute_result"
    }
   ],
   "source": [
    "slicing = Numbers[2: ]\n",
    "slicing"
   ]
  },
  {
   "cell_type": "markdown",
   "id": "de3152c5-4cfd-45b1-8f7d-8bb2502bc586",
   "metadata": {},
   "source": [
    "Using slicing, extract the last 4 elements from the list."
   ]
  },
  {
   "cell_type": "code",
   "execution_count": 18,
   "id": "917f79ee-bad2-4302-ad9e-ab3afad4129d",
   "metadata": {},
   "outputs": [
    {
     "data": {
      "text/plain": [
       "[50, 100, 115, 140]"
      ]
     },
     "execution_count": 18,
     "metadata": {},
     "output_type": "execute_result"
    }
   ],
   "source": [
    "slicing = Numbers[-4: ]\n",
    "slicing"
   ]
  },
  {
   "cell_type": "markdown",
   "id": "eeb6e299-e2ee-456a-b726-c98fa4cd6c76",
   "metadata": {},
   "source": [
    "Which is the position of the value 15?"
   ]
  },
  {
   "cell_type": "code",
   "execution_count": 19,
   "id": "325f08b7-1222-45f9-a535-d8dbb47c271e",
   "metadata": {},
   "outputs": [
    {
     "data": {
      "text/plain": [
       "0"
      ]
     },
     "execution_count": 19,
     "metadata": {},
     "output_type": "execute_result"
    }
   ],
   "source": [
    "position = Numbers.index(15)\n",
    "position"
   ]
  },
  {
   "cell_type": "markdown",
   "id": "1812bde7-d366-47c3-994b-09f2417c226d",
   "metadata": {},
   "source": [
    "Create a list, called \"Two_Numbers\". Let its elements be the values 1 and 2. Then, create a new one, named \"All_Numbers\", that will containt both the \"Numbers\" and the \"Two_Numbers\" lists. "
   ]
  },
  {
   "cell_type": "code",
   "execution_count": 20,
   "id": "dd30c54f-db9f-4522-8595-8f2ecfdaf530",
   "metadata": {},
   "outputs": [
    {
     "data": {
      "text/plain": [
       "[1, 2, 3, 4, 5]"
      ]
     },
     "execution_count": 20,
     "metadata": {},
     "output_type": "execute_result"
    }
   ],
   "source": [
    "Two_Numbers = [1,2]\n",
    "Numbers = [3,4,5]\n",
    "\n",
    "Two_Numbers = Two_Numbers + Numbers\n",
    "Two_Numbers"
   ]
  },
  {
   "cell_type": "markdown",
   "id": "caa27af5-035a-4db7-8fe2-c55402ed4528",
   "metadata": {},
   "source": [
    "Sort all the numbers in the \"Numbers\" list from the largest to the smallest."
   ]
  },
  {
   "cell_type": "code",
   "execution_count": 21,
   "id": "a955db81-6869-4286-996c-d27839959640",
   "metadata": {},
   "outputs": [
    {
     "data": {
      "text/plain": [
       "[5, 4, 3, 2, 1]"
      ]
     },
     "execution_count": 21,
     "metadata": {},
     "output_type": "execute_result"
    }
   ],
   "source": [
    "Two_Numbers.sort(reverse = True)\n",
    "Two_Numbers"
   ]
  },
  {
   "cell_type": "markdown",
   "id": "74a12369-1e15-4028-9a07-38101a0dce74",
   "metadata": {},
   "source": [
    "HELP YOURSELF WITH METHODS"
   ]
  },
  {
   "cell_type": "code",
   "execution_count": 22,
   "id": "4db63c20-95da-4c14-a81b-a9ceb74991aa",
   "metadata": {},
   "outputs": [],
   "source": [
    "Numbers = [15, 40, 50]"
   ]
  },
  {
   "cell_type": "markdown",
   "id": "16076cb1-849b-4a60-b8f6-fbd2d6068964",
   "metadata": {},
   "source": [
    "Append the number 100 to the Numbers list."
   ]
  },
  {
   "cell_type": "code",
   "execution_count": 23,
   "id": "dd41c42e-f1d5-48c7-a255-8576b6754ec7",
   "metadata": {},
   "outputs": [
    {
     "data": {
      "text/plain": [
       "[15, 40, 50, 100]"
      ]
     },
     "execution_count": 23,
     "metadata": {},
     "output_type": "execute_result"
    }
   ],
   "source": [
    "Numbers.append(100)\n",
    "Numbers"
   ]
  },
  {
   "cell_type": "markdown",
   "id": "8a6e8f3b-5572-47e6-8344-fe91343b8f81",
   "metadata": {},
   "source": [
    "With the help of the \"extend method\", add the numbers 115 an 140 to the list. "
   ]
  },
  {
   "cell_type": "code",
   "execution_count": 24,
   "id": "b8a219b8-e6cd-4264-8f66-ac9a3fd9452c",
   "metadata": {},
   "outputs": [
    {
     "data": {
      "text/plain": [
       "[15, 40, 50, 100, 115, 140]"
      ]
     },
     "execution_count": 24,
     "metadata": {},
     "output_type": "execute_result"
    }
   ],
   "source": [
    "Numbers.extend([115,140])\n",
    "Numbers"
   ]
  },
  {
   "cell_type": "markdown",
   "id": "cfdb80e3-1634-4994-b1c5-c5f510c59fb3",
   "metadata": {},
   "source": [
    "Print a statement, saying \"The fourth element of the Numbers list is:\" and then designate the value of the fourth element. Use a trailing comma."
   ]
  },
  {
   "cell_type": "code",
   "execution_count": 25,
   "id": "a5797d34-23ba-4574-b9f5-593f386e5c48",
   "metadata": {},
   "outputs": [
    {
     "name": "stdout",
     "output_type": "stream",
     "text": [
      "The fourth element of the Numbers list is: 100,"
     ]
    }
   ],
   "source": [
    "print('The fourth element of the Numbers list is:', Numbers[3], end=',')"
   ]
  },
  {
   "cell_type": "markdown",
   "id": "8a174a33-2427-4b27-8766-b8a7051cae95",
   "metadata": {},
   "source": [
    "How many elements are there in the Numbers list?"
   ]
  },
  {
   "cell_type": "code",
   "execution_count": 26,
   "id": "0b73ecc5-abd0-44de-83d5-ca9706bb93cc",
   "metadata": {},
   "outputs": [
    {
     "name": "stdout",
     "output_type": "stream",
     "text": [
      "The number of elements in the number list is: 6\n"
     ]
    }
   ],
   "source": [
    "elements = len(Numbers)\n",
    "print('The number of elements in the number list is:', elements)"
   ]
  },
  {
   "cell_type": "markdown",
   "id": "93ba2eb3-5512-4773-a365-2a0a9b2893c2",
   "metadata": {},
   "source": [
    "WHILE LOOPS AND INCREMENTING"
   ]
  },
  {
   "cell_type": "markdown",
   "id": "9d14dfb5-75f7-4b31-91c3-6197df41eaa4",
   "metadata": {},
   "source": [
    "Create a while loop that will print all odd numbers from 0 to 30 on the same row. \r\n",
    "<br />\r\n",
    "*Hint: There are two ways in which you can create the odd values!*"
   ]
  },
  {
   "cell_type": "code",
   "execution_count": 27,
   "id": "31bf9189-545b-4b21-995d-b52c5e9459ab",
   "metadata": {},
   "outputs": [
    {
     "name": "stdout",
     "output_type": "stream",
     "text": [
      "1 3 5 7 9 11 13 15 17 19 21 23 25 27 29 "
     ]
    }
   ],
   "source": [
    "num = 1 #initialize the variable with the first odd number\n",
    "while num <= 30: #loop until number is greater than 30\n",
    "    print(num, end=' ') #print the current number without moving to a new line\n",
    "    num += 2     #increment number by 2 to get the next odd number"
   ]
  },
  {
   "cell_type": "markdown",
   "id": "952c489c-87ce-4ae6-a539-249c7b86e165",
   "metadata": {},
   "source": [
    "CREATE A LIST WITH THE RANGE FUNCTION"
   ]
  },
  {
   "cell_type": "markdown",
   "id": "faf7170c-fb1c-470f-8624-525555536ead",
   "metadata": {},
   "source": [
    "Use the range() function to create a list with all numbers from 1 to 10."
   ]
  },
  {
   "cell_type": "code",
   "execution_count": 28,
   "id": "3ea80a73-967d-43e5-b33a-6914219352b4",
   "metadata": {},
   "outputs": [
    {
     "name": "stdout",
     "output_type": "stream",
     "text": [
      "[1, 2, 3, 4, 5, 6, 7, 8, 9, 10]\n"
     ]
    }
   ],
   "source": [
    "numbers = list(range(1,11))\n",
    "print(numbers)"
   ]
  },
  {
   "cell_type": "markdown",
   "id": "c3e078dc-ca80-4bf2-a0ff-2f02c780d9b5",
   "metadata": {},
   "source": [
    "Use the range() function to create a list with all numbers from 0 to 19."
   ]
  },
  {
   "cell_type": "code",
   "execution_count": 29,
   "id": "7bf27b56-6d68-4c41-a970-167524f12f5e",
   "metadata": {},
   "outputs": [
    {
     "name": "stdout",
     "output_type": "stream",
     "text": [
      "[0, 1, 2, 3, 4, 5, 6, 7, 8, 9, 10, 11, 12, 13, 14, 15, 16, 17, 18, 19]\n"
     ]
    }
   ],
   "source": [
    "numbers = list(range(0,20))\n",
    "print(numbers)"
   ]
  },
  {
   "cell_type": "markdown",
   "id": "84e2d31d-9157-4729-ba58-488d3970d4f4",
   "metadata": {},
   "source": [
    "Use the range function to create a list with all even numbers from 0 to 30 included."
   ]
  },
  {
   "cell_type": "code",
   "execution_count": 30,
   "id": "468795aa-d42d-47a6-a5a1-462531052dfa",
   "metadata": {},
   "outputs": [
    {
     "name": "stdout",
     "output_type": "stream",
     "text": [
      "[0, 2, 4, 6, 8, 10, 12, 14, 16, 18, 20, 22, 24, 26, 28, 30]\n"
     ]
    }
   ],
   "source": [
    "even_num = list(range(0,31,2))\n",
    "print(even_num)"
   ]
  },
  {
   "cell_type": "markdown",
   "id": "a2bc679d-9aae-4d87-b423-67abd3509207",
   "metadata": {},
   "source": [
    "USE CONDITIONAL STATEMENTS AND LOOPS TOGETHER"
   ]
  },
  {
   "cell_type": "markdown",
   "id": "6bd8ecc9-1b89-4f81-b1e1-fa251588200b",
   "metadata": {},
   "source": [
    "Create a For loop that will print all the variables from a given list multiplied by 2. Let the list contain all numbers from 1 to 10. Create it with the help of the range() function."
   ]
  },
  {
   "cell_type": "code",
   "execution_count": 31,
   "id": "12af0096-e387-4724-bdf1-0c0aa58de812",
   "metadata": {},
   "outputs": [
    {
     "name": "stdout",
     "output_type": "stream",
     "text": [
      "2 4 6 8 10 12 14 16 18 20 "
     ]
    }
   ],
   "source": [
    "numbers = list(range(1,11))\n",
    "for num in numbers:\n",
    "    print(num * 2,end=' ')"
   ]
  },
  {
   "cell_type": "markdown",
   "id": "bf7d8d88-2b02-4e37-8fe0-24114eb05405",
   "metadata": {},
   "source": [
    "Create a little program that runs a loop over all values from 1 to 30. Let it print all Odd numbers, and in the place of the even numbers, it should print \"Even\".\n",
    "Help yourself with the range() function to solve this exercise."
   ]
  },
  {
   "cell_type": "code",
   "execution_count": 32,
   "id": "55986f50-58a9-4467-aa2a-237ded72bdb3",
   "metadata": {},
   "outputs": [
    {
     "name": "stdout",
     "output_type": "stream",
     "text": [
      "1 Even 3 Even 5 Even 7 Even 9 Even 11 Even 13 Even 15 Even 17 Even 19 Even 21 Even 23 Even 25 Even 27 Even 29 Even "
     ]
    }
   ],
   "source": [
    "for num in range(1,31): #loop through numbers from 1 to 30\n",
    "    if num % 2 == 0:\n",
    "        #print \"Even\" for even numbers\n",
    "        print(\"Even\", end=' ')\n",
    "    else:\n",
    "        #print the number for odd numbers\n",
    "        print(num, end=' ')"
   ]
  },
  {
   "cell_type": "markdown",
   "id": "716bc2e1-7996-4a27-add3-4f496cc7bf44",
   "metadata": {},
   "source": [
    "You have the following list of numbers. Iterate over this list, printing out each list value multiplied by 10.\n",
    "Find two solutions of this problem."
   ]
  },
  {
   "cell_type": "code",
   "execution_count": 47,
   "id": "a3873bd8-0013-4507-8b12-2f8561485761",
   "metadata": {},
   "outputs": [],
   "source": [
    "n = [1,2,3,4,5,6]"
   ]
  },
  {
   "cell_type": "code",
   "execution_count": 35,
   "id": "1d173b33-dd5a-41c4-bdf8-95743243238e",
   "metadata": {},
   "outputs": [
    {
     "name": "stdout",
     "output_type": "stream",
     "text": [
      "10\n",
      "20\n",
      "30\n",
      "40\n",
      "50\n",
      "60\n"
     ]
    }
   ],
   "source": [
    "for num in n:\n",
    "    print(num*10)"
   ]
  },
  {
   "cell_type": "code",
   "execution_count": null,
   "id": "047527d3-ee7f-4b90-8260-552560768d43",
   "metadata": {},
   "outputs": [
    {
     "name": "stdout",
     "output_type": "stream",
     "text": [
      "10\n",
      "20\n",
      "30\n",
      "40\n",
      "50\n",
      "60\n"
     ]
    }
   ],
   "source": [
    "n = [1,2,3,4,5,6]\n",
    "[print(num *10) for num in n]\n",
    "OUTPUT\n",
    "[print(num *10) for num in n]"
   ]
  },
  {
   "cell_type": "code",
   "execution_count": null,
   "id": "67bbd7d0-7f5d-49db-97a8-b11297bf0407",
   "metadata": {},
   "outputs": [],
   "source": []
  }
 ],
 "metadata": {
  "kernelspec": {
   "display_name": "Python 3 (ipykernel)",
   "language": "python",
   "name": "python3"
  },
  "language_info": {
   "codemirror_mode": {
    "name": "ipython",
    "version": 3
   },
   "file_extension": ".py",
   "mimetype": "text/x-python",
   "name": "python",
   "nbconvert_exporter": "python",
   "pygments_lexer": "ipython3",
   "version": "3.12.4"
  }
 },
 "nbformat": 4,
 "nbformat_minor": 5
}
