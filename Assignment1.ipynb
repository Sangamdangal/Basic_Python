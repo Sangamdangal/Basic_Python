{
 "cells": [
  {
   "cell_type": "markdown",
   "id": "bd05044e-9118-4b77-ad98-64d3cb20d0ee",
   "metadata": {},
   "source": [
    "ASSIGNMENT 1"
   ]
  },
  {
   "cell_type": "markdown",
   "id": "28aede62-d17b-4eb6-b624-f297037e7c7a",
   "metadata": {},
   "source": [
    "Variables"
   ]
  },
  {
   "cell_type": "code",
   "execution_count": 15,
   "id": "1a4a74bb-ba49-404b-805c-2dca99d248eb",
   "metadata": {},
   "outputs": [
    {
     "name": "stdout",
     "output_type": "stream",
     "text": [
      "10\n"
     ]
    }
   ],
   "source": [
    "#Create a variable with name \"x\" and value of 10. Execute.\n",
    "x = 10;\n",
    "print(x) #Tell the computer to show you the value of that variable."
   ]
  },
  {
   "cell_type": "code",
   "execution_count": 10,
   "id": "5976382b-5224-4b9c-9022-56755851dcc9",
   "metadata": {},
   "outputs": [
    {
     "name": "stdout",
     "output_type": "stream",
     "text": [
      "The value of x is 10\n"
     ]
    }
   ],
   "source": [
    "#Can you think of a second way to obtain the same result.\n",
    "print(f'The value of x is {x}')"
   ]
  },
  {
   "cell_type": "code",
   "execution_count": 5,
   "id": "02d28c64-a8b7-4857-b6f0-f9da5890e426",
   "metadata": {},
   "outputs": [
    {
     "name": "stdout",
     "output_type": "stream",
     "text": [
      "10 20 30 40\n"
     ]
    }
   ],
   "source": [
    "#Create four new variables: a,b,c,d that are equal to 10,20,30 and 40 respectively.\n",
    "a,b,c,d = 10,20,30,40\n",
    "print(a,b,c,d)"
   ]
  },
  {
   "cell_type": "code",
   "execution_count": 6,
   "id": "2455ae80-0c5e-46b3-ad47-ae3a3c60908b",
   "metadata": {},
   "outputs": [
    {
     "name": "stdout",
     "output_type": "stream",
     "text": [
      "20\n"
     ]
    }
   ],
   "source": [
    "#Tell the computer to show you the value corresponding to the variable \"b\".\n",
    "print(b)"
   ]
  },
  {
   "cell_type": "code",
   "execution_count": 7,
   "id": "1a225040-87a2-4d86-a1b1-f77853f6c16c",
   "metadata": {},
   "outputs": [
    {
     "name": "stdout",
     "output_type": "stream",
     "text": [
      "40\n"
     ]
    }
   ],
   "source": [
    "#Do the same for \"d\".\n",
    "print(d)"
   ]
  },
  {
   "cell_type": "markdown",
   "id": "f5683817-81f6-4be2-af31-868c2e07bd8c",
   "metadata": {},
   "source": [
    "NUMBERS AND BOOLEAN VALUES"
   ]
  },
  {
   "cell_type": "code",
   "execution_count": 8,
   "id": "01a47e33-09f9-4c56-b03d-88369176c5c3",
   "metadata": {},
   "outputs": [
    {
     "name": "stdout",
     "output_type": "stream",
     "text": [
      "True\n"
     ]
    }
   ],
   "source": [
    "#Create a variable equal to \"True\"\n",
    "var=True\n",
    "print(var)"
   ]
  },
  {
   "cell_type": "code",
   "execution_count": 9,
   "id": "d4ea3d8e-c0ab-41e2-bad5-593e0643941d",
   "metadata": {},
   "outputs": [
    {
     "name": "stdout",
     "output_type": "stream",
     "text": [
      "<class 'bool'>\n"
     ]
    }
   ],
   "source": [
    "#Check its type\n",
    "print(type(var))"
   ]
  },
  {
   "cell_type": "code",
   "execution_count": 11,
   "id": "c1322e71-226f-48d1-99e2-dfb7560f454c",
   "metadata": {},
   "outputs": [
    {
     "name": "stdout",
     "output_type": "stream",
     "text": [
      "99\n"
     ]
    }
   ],
   "source": [
    "#Create a variable equal to 99.\n",
    "var=99\n",
    "print(var)"
   ]
  },
  {
   "cell_type": "code",
   "execution_count": 12,
   "id": "7eb87d84-aa66-4dac-b19d-44c98a04a5bb",
   "metadata": {},
   "outputs": [
    {
     "name": "stdout",
     "output_type": "stream",
     "text": [
      "<class 'int'>\n"
     ]
    }
   ],
   "source": [
    "#Check its type\n",
    "print(type(var))"
   ]
  },
  {
   "cell_type": "code",
   "execution_count": 13,
   "id": "0c74bb89-5ebf-4e0c-9135-5c2aa6d8bb84",
   "metadata": {},
   "outputs": [
    {
     "name": "stdout",
     "output_type": "stream",
     "text": [
      "99.0\n"
     ]
    }
   ],
   "source": [
    "#Turn 99 into float\n",
    "var=float(99)\n",
    "print(var)"
   ]
  },
  {
   "cell_type": "code",
   "execution_count": 14,
   "id": "e731c110-88b1-4b7d-bed9-3cfe395ec855",
   "metadata": {},
   "outputs": [
    {
     "name": "stdout",
     "output_type": "stream",
     "text": [
      "0\n"
     ]
    }
   ],
   "source": [
    "#Turn 0.99 into an integer. What value did you get?\n",
    "x=int(0.99)\n",
    "print(x)"
   ]
  },
  {
   "cell_type": "markdown",
   "id": "4b0fb091-0f7f-40ec-b4b2-a1fe71521953",
   "metadata": {},
   "source": [
    "STRINGS"
   ]
  },
  {
   "cell_type": "code",
   "execution_count": 16,
   "id": "68a0c0ae-1841-4f04-b8a7-40a92415d96f",
   "metadata": {},
   "outputs": [],
   "source": [
    "#Assign the value of 100 to the variable \"m\".\n",
    "m=100"
   ]
  },
  {
   "cell_type": "code",
   "execution_count": 17,
   "id": "88946364-fe5d-477f-9349-b09e364ae925",
   "metadata": {},
   "outputs": [
    {
     "name": "stdout",
     "output_type": "stream",
     "text": [
      "100 days\n"
     ]
    }
   ],
   "source": [
    "#With the help of the variable \"m\", write one line of code where the output after execution would be 100 days.\n",
    "#Hint: You could provide four answers to this question.\n",
    "print(f'{m} days')"
   ]
  },
  {
   "cell_type": "code",
   "execution_count": 21,
   "id": "799d17a8-4de0-4781-aeec-1db79bc9515e",
   "metadata": {},
   "outputs": [
    {
     "name": "stdout",
     "output_type": "stream",
     "text": [
      "100 days\n"
     ]
    }
   ],
   "source": [
    "print(str(m) + ' days')"
   ]
  },
  {
   "cell_type": "code",
   "execution_count": 24,
   "id": "aa2c8487-1ee6-458a-8ac4-80131c620bd9",
   "metadata": {},
   "outputs": [
    {
     "name": "stdout",
     "output_type": "stream",
     "text": [
      "100 days\n"
     ]
    }
   ],
   "source": [
    "print('%d days' %m)"
   ]
  },
  {
   "cell_type": "code",
   "execution_count": 25,
   "id": "1e0440fd-410d-42ad-9b7d-9ac5300c4f48",
   "metadata": {},
   "outputs": [
    {
     "name": "stdout",
     "output_type": "stream",
     "text": [
      "It's cool, isn't it?\n"
     ]
    }
   ],
   "source": [
    "#Produce an output equal to It's cool, isn't it?\n",
    "print(\"It's cool, isn't it?\")"
   ]
  },
  {
   "cell_type": "code",
   "execution_count": 32,
   "id": "46a010bb-5b31-4c24-b2aa-e1be7a0411b0",
   "metadata": {},
   "outputs": [
    {
     "name": "stdout",
     "output_type": "stream",
     "text": [
      "'Don't be shy\n"
     ]
    }
   ],
   "source": [
    "#Fix the string:  'Don't be shy\n",
    "print(\"'Don't be shy\")"
   ]
  },
  {
   "cell_type": "code",
   "execution_count": 35,
   "id": "f9cf4e60-7728-4ca7-bf77-646e3beabe34",
   "metadata": {},
   "outputs": [
    {
     "name": "stdout",
     "output_type": "stream",
     "text": [
      "Click \"OK\"\n"
     ]
    }
   ],
   "source": [
    "#Produce an output equal to Click \"OK\".\n",
    "print('Click \"OK\"') #or print(\"Click \\\"OK\\\"\")"
   ]
  },
  {
   "cell_type": "code",
   "execution_count": 34,
   "id": "54871f7f-84c9-4af9-9cad-ad3c930de156",
   "metadata": {},
   "outputs": [
    {
     "name": "stdout",
     "output_type": "stream",
     "text": [
      "Click \"OK\"\n"
     ]
    }
   ],
   "source": [
    "print(\"Click \\\"OK\\\"\")"
   ]
  },
  {
   "cell_type": "code",
   "execution_count": 44,
   "id": "c89e7654-00c2-4526-b85e-235195131c99",
   "metadata": {},
   "outputs": [
    {
     "name": "stdout",
     "output_type": "stream",
     "text": [
      "'Big Houses'\n"
     ]
    }
   ],
   "source": [
    "#Input a plus sign in your line of code to produce 'Big Houses'.\n",
    "print(\"'Big\" + \" \" + \"Houses'\")"
   ]
  },
  {
   "cell_type": "code",
   "execution_count": 45,
   "id": "e1210934-33ac-414a-8c16-a6d72e03516e",
   "metadata": {},
   "outputs": [
    {
     "name": "stdout",
     "output_type": "stream",
     "text": [
      "Big Houses\n"
     ]
    }
   ],
   "source": [
    "#Input a trailing comma in your line of code to produce Big Houses.\n",
    "print(\"Big\", \"Houses\",) #a comma that appears after the last item in a list, tuple, dictionary, or function call"
   ]
  },
  {
   "cell_type": "markdown",
   "id": "21022038-9710-4d76-9ffb-4010f868a8f1",
   "metadata": {},
   "source": [
    "ARITHMETIC OPERATIONS"
   ]
  },
  {
   "cell_type": "code",
   "execution_count": 48,
   "id": "f91da5a6-b604-4523-b324-3a9423cb4920",
   "metadata": {},
   "outputs": [
    {
     "name": "stdout",
     "output_type": "stream",
     "text": [
      "38\n"
     ]
    }
   ],
   "source": [
    "#Combine 15 and 23\n",
    "x=15+23 #addition\n",
    "print(x)"
   ]
  },
  {
   "cell_type": "code",
   "execution_count": 47,
   "id": "38444846-025e-4254-9d1a-55139378d6fb",
   "metadata": {},
   "outputs": [
    {
     "name": "stdout",
     "output_type": "stream",
     "text": [
      "1523\n"
     ]
    }
   ],
   "source": [
    "x= str(15)+str(23) #concatination\n",
    "print(x)"
   ]
  },
  {
   "cell_type": "code",
   "execution_count": 54,
   "id": "13f09a6b-0126-4b82-b43b-7838b5944296",
   "metadata": {},
   "outputs": [
    {
     "name": "stdout",
     "output_type": "stream",
     "text": [
      "24\n"
     ]
    }
   ],
   "source": [
    "#Subtract 50 and 26\n",
    "x=50-26\n",
    "print(x)"
   ]
  },
  {
   "cell_type": "code",
   "execution_count": 57,
   "id": "c992334d-5d37-4db5-ad80-aecd14f3cd5b",
   "metadata": {},
   "outputs": [
    {
     "name": "stdout",
     "output_type": "stream",
     "text": [
      "6.666666666666667\n"
     ]
    }
   ],
   "source": [
    "#Divide 20 by 3\n",
    "x=float(20/3)\n",
    "print(x)"
   ]
  },
  {
   "cell_type": "code",
   "execution_count": 59,
   "id": "7db3321a-6405-428e-a901-a2af2d5b8182",
   "metadata": {},
   "outputs": [
    {
     "name": "stdout",
     "output_type": "stream",
     "text": [
      "2\n"
     ]
    }
   ],
   "source": [
    "#Obtain the remainder of the division of 22 by 4\n",
    "x=22%4\n",
    "print(x)"
   ]
  },
  {
   "cell_type": "code",
   "execution_count": 63,
   "id": "80cf69a8-f7b0-4919-a386-45a979070df3",
   "metadata": {},
   "outputs": [
    {
     "name": "stdout",
     "output_type": "stream",
     "text": [
      "5.5\n"
     ]
    }
   ],
   "source": [
    "#Divide the float 22 by 4\n",
    "x=float(22/4)\n",
    "print(x)"
   ]
  },
  {
   "cell_type": "code",
   "execution_count": 64,
   "id": "663952c4-b8f0-4618-afb0-64cd13bda571",
   "metadata": {},
   "outputs": [
    {
     "name": "stdout",
     "output_type": "stream",
     "text": [
      "48\n"
     ]
    }
   ],
   "source": [
    "#Multiply 6 by 8\n",
    "result=6*8\n",
    "print(result)"
   ]
  },
  {
   "cell_type": "code",
   "execution_count": 67,
   "id": "73ee8903-839e-4754-b514-28261a683b9a",
   "metadata": {},
   "outputs": [
    {
     "name": "stdout",
     "output_type": "stream",
     "text": [
      "225\n"
     ]
    }
   ],
   "source": [
    "#Raise 15 to the power of 2\n",
    "x=15**2\n",
    "print(x)"
   ]
  },
  {
   "cell_type": "markdown",
   "id": "92aac693-bf3e-4809-9c11-5a99f9f63b82",
   "metadata": {},
   "source": [
    "THE DOUBLE-EQUALITY SIGN"
   ]
  },
  {
   "cell_type": "code",
   "execution_count": 69,
   "id": "8d08bcb8-3d3f-42e9-8ea7-5bcbca3ca875",
   "metadata": {},
   "outputs": [
    {
     "name": "stdout",
     "output_type": "stream",
     "text": [
      "True\n"
     ]
    }
   ],
   "source": [
    "#Demonstrate that 100 is not equal to 98\n",
    "result= 100 != 98\n",
    "print(result)"
   ]
  }
 ],
 "metadata": {
  "kernelspec": {
   "display_name": "Python 3 (ipykernel)",
   "language": "python",
   "name": "python3"
  },
  "language_info": {
   "codemirror_mode": {
    "name": "ipython",
    "version": 3
   },
   "file_extension": ".py",
   "mimetype": "text/x-python",
   "name": "python",
   "nbconvert_exporter": "python",
   "pygments_lexer": "ipython3",
   "version": "3.12.4"
  }
 },
 "nbformat": 4,
 "nbformat_minor": 5
}
