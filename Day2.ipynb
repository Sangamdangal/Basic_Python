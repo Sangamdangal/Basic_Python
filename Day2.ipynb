{
 "cells": [
  {
   "cell_type": "markdown",
   "id": "7dfd64e8-8dad-47fe-9300-6c1b69fa8e1c",
   "metadata": {},
   "source": [
    "#DAY 2 OPERATOR"
   ]
  },
  {
   "cell_type": "code",
   "execution_count": 2,
   "id": "301a09fb-ac9e-42fe-81e6-31c67570b2d7",
   "metadata": {},
   "outputs": [
    {
     "data": {
      "text/plain": [
       "2"
      ]
     },
     "execution_count": 2,
     "metadata": {},
     "output_type": "execute_result"
    }
   ],
   "source": [
    "12%5 #modulo gives remainder"
   ]
  },
  {
   "cell_type": "code",
   "execution_count": 3,
   "id": "f471a947-39b5-442a-aad3-15fd21ebbd1c",
   "metadata": {},
   "outputs": [
    {
     "data": {
      "text/plain": [
       "8"
      ]
     },
     "execution_count": 3,
     "metadata": {},
     "output_type": "execute_result"
    }
   ],
   "source": [
    "2**3 #exponential or power"
   ]
  },
  {
   "cell_type": "code",
   "execution_count": 6,
   "id": "26f044f1-d042-464f-9101-7427799011a8",
   "metadata": {},
   "outputs": [
    {
     "data": {
      "text/plain": [
       "4"
      ]
     },
     "execution_count": 6,
     "metadata": {},
     "output_type": "execute_result"
    }
   ],
   "source": [
    "22//5 #gives quotient "
   ]
  },
  {
   "cell_type": "code",
   "execution_count": 11,
   "id": "6214c860-3c7e-46d4-bab6-386f6e9b0b51",
   "metadata": {},
   "outputs": [
    {
     "name": "stdout",
     "output_type": "stream",
     "text": [
      "8.166666666666666\n"
     ]
    }
   ],
   "source": [
    "x=7*(3+8-4)/6\n",
    "print(x)"
   ]
  },
  {
   "cell_type": "code",
   "execution_count": 14,
   "id": "5ad8de4d-67cf-4754-bf49-e0d46da60b74",
   "metadata": {},
   "outputs": [
    {
     "name": "stdout",
     "output_type": "stream",
     "text": [
      "0\n"
     ]
    }
   ],
   "source": [
    "y=int(x)%2\n",
    "print(y)"
   ]
  },
  {
   "cell_type": "code",
   "execution_count": 15,
   "id": "67241080-0d5c-413b-b7ed-28967ae70a5c",
   "metadata": {},
   "outputs": [
    {
     "name": "stdout",
     "output_type": "stream",
     "text": [
      "0\n"
     ]
    }
   ],
   "source": [
    "z=y**3\n",
    "print(z)"
   ]
  },
  {
   "cell_type": "code",
   "execution_count": 17,
   "id": "23a894b2-e0a4-4d11-90b5-802c8e41dc9a",
   "metadata": {},
   "outputs": [
    {
     "data": {
      "text/plain": [
       "0"
      ]
     },
     "execution_count": 17,
     "metadata": {},
     "output_type": "execute_result"
    }
   ],
   "source": [
    "z//3  #floor division"
   ]
  },
  {
   "cell_type": "code",
   "execution_count": 35,
   "id": "d287eb28-9dc2-43a5-b1ef-03fcfad299c9",
   "metadata": {},
   "outputs": [
    {
     "name": "stdout",
     "output_type": "stream",
     "text": [
      "5\n"
     ]
    }
   ],
   "source": [
    "x=2\n",
    "x+=3\n",
    "print(x)"
   ]
  },
  {
   "cell_type": "code",
   "execution_count": 36,
   "id": "6bcbc3b6-39f7-4648-bf55-d2f5b8cb7272",
   "metadata": {},
   "outputs": [
    {
     "name": "stdout",
     "output_type": "stream",
     "text": [
      "10\n"
     ]
    }
   ],
   "source": [
    "x*=2\n",
    "print(x)"
   ]
  },
  {
   "cell_type": "code",
   "execution_count": 6,
   "id": "98286838-fcd9-42d8-80ce-f549ccea0273",
   "metadata": {},
   "outputs": [
    {
     "data": {
      "text/plain": [
       "False"
      ]
     },
     "execution_count": 6,
     "metadata": {},
     "output_type": "execute_result"
    }
   ],
   "source": [
    "x=6 \n",
    "y=7\n",
    "x>7 and y>7"
   ]
  },
  {
   "cell_type": "code",
   "execution_count": 7,
   "id": "4c6a3979-0d5d-47ad-b6f2-370f01da6b1f",
   "metadata": {},
   "outputs": [
    {
     "data": {
      "text/plain": [
       "False"
      ]
     },
     "execution_count": 7,
     "metadata": {},
     "output_type": "execute_result"
    }
   ],
   "source": [
    "False and whatever"
   ]
  },
  {
   "cell_type": "markdown",
   "id": "2002c4cf-b44a-4bde-ac24-50a1ed8267da",
   "metadata": {},
   "source": [
    "' ' and whatever #empty string is false. 'Hello' and whatever #empty string is TRUE"
   ]
  },
  {
   "cell_type": "markdown",
   "id": "32f8aef9-64ee-4c42-a5c4-0183063208ea",
   "metadata": {},
   "source": [
    "logocal operator precedence rule just like BODMAS rule\n",
    "First NOT then AND at last OR"
   ]
  },
  {
   "cell_type": "code",
   "execution_count": 11,
   "id": "ef2fb3c9-f7eb-466f-b3fc-1c3a456ba6bc",
   "metadata": {},
   "outputs": [
    {
     "data": {
      "text/plain": [
       "'IDENTITY OPERATOR\\nUsed to determine whether a value is of a certain class or type'"
      ]
     },
     "execution_count": 11,
     "metadata": {},
     "output_type": "execute_result"
    }
   ],
   "source": [
    "\"\"\"IDENTITY OPERATOR\n",
    "Used to determine whether a value is of a certain class or type\"\"\"\n"
   ]
  },
  {
   "cell_type": "code",
   "execution_count": 12,
   "id": "b53dbcc3-eeb4-49e9-97c7-d867b3316455",
   "metadata": {},
   "outputs": [
    {
     "data": {
      "text/plain": [
       "False"
      ]
     },
     "execution_count": 12,
     "metadata": {},
     "output_type": "execute_result"
    }
   ],
   "source": [
    "'elo' in 'Hello'"
   ]
  },
  {
   "cell_type": "code",
   "execution_count": 20,
   "id": "5c5d3358-8705-4623-b32d-7f4cb70930ea",
   "metadata": {},
   "outputs": [
    {
     "data": {
      "text/plain": [
       "2"
      ]
     },
     "execution_count": 20,
     "metadata": {},
     "output_type": "execute_result"
    }
   ],
   "source": [
    "2&3 #and operator"
   ]
  },
  {
   "cell_type": "code",
   "execution_count": 21,
   "id": "5c7e2c4d-ce92-472b-8118-49fe9cedbe90",
   "metadata": {},
   "outputs": [
    {
     "data": {
      "text/plain": [
       "4"
      ]
     },
     "execution_count": 21,
     "metadata": {},
     "output_type": "execute_result"
    }
   ],
   "source": [
    "4&5"
   ]
  },
  {
   "cell_type": "code",
   "execution_count": 24,
   "id": "1f358d93-721b-4771-8abd-3d46bfe9c282",
   "metadata": {},
   "outputs": [
    {
     "data": {
      "text/plain": [
       "3"
      ]
     },
     "execution_count": 24,
     "metadata": {},
     "output_type": "execute_result"
    }
   ],
   "source": [
    "2 and 3 #we dont do this type of operation just for example "
   ]
  },
  {
   "cell_type": "code",
   "execution_count": 25,
   "id": "21a586fa-74ad-4876-b5e4-147ed979b309",
   "metadata": {},
   "outputs": [
    {
     "data": {
      "text/plain": [
       "3"
      ]
     },
     "execution_count": 25,
     "metadata": {},
     "output_type": "execute_result"
    }
   ],
   "source": [
    "2|3 #OR operator"
   ]
  },
  {
   "cell_type": "code",
   "execution_count": 33,
   "id": "3dc7b5b9-fde9-4817-a082-7bd891f71e43",
   "metadata": {},
   "outputs": [
    {
     "data": {
      "text/plain": [
       "['Sunday', 'Monday', 'Tuesday', 'Wednesday', 'Thursday', 'Friday', 'Saturday']"
      ]
     },
     "execution_count": 33,
     "metadata": {},
     "output_type": "execute_result"
    }
   ],
   "source": [
    "#list, we can store multiple data type but compiling process gets longer\n",
    "days_of_week=['Sunday', 'Monday', 'Tuesday', 'Wednesday', 'Thursday', 'Friday', 'Saturday']\n",
    "days_of_week"
   ]
  },
  {
   "cell_type": "code",
   "execution_count": 34,
   "id": "dc7d63c3-c9cf-40fd-8586-6febbb8acd52",
   "metadata": {},
   "outputs": [
    {
     "data": {
      "text/plain": [
       "7"
      ]
     },
     "execution_count": 34,
     "metadata": {},
     "output_type": "execute_result"
    }
   ],
   "source": [
    "len(days_of_week)"
   ]
  },
  {
   "cell_type": "code",
   "execution_count": 35,
   "id": "0f47c92c-2bfc-43e2-b784-0aa9bcb6efb5",
   "metadata": {},
   "outputs": [
    {
     "name": "stdout",
     "output_type": "stream",
     "text": [
      "Wednesday\n"
     ]
    }
   ],
   "source": [
    "print(days_of_week[3])"
   ]
  },
  {
   "cell_type": "code",
   "execution_count": 36,
   "id": "c3ff1742-23ed-49ea-9416-5fad84081b47",
   "metadata": {},
   "outputs": [
    {
     "name": "stdout",
     "output_type": "stream",
     "text": [
      "Sunday\n"
     ]
    }
   ],
   "source": [
    "print(days_of_week[0])"
   ]
  },
  {
   "cell_type": "code",
   "execution_count": null,
   "id": "478f5d16-43f2-4542-b5b3-8adc1125963a",
   "metadata": {},
   "outputs": [],
   "source": []
  }
 ],
 "metadata": {
  "kernelspec": {
   "display_name": "Python 3 (ipykernel)",
   "language": "python",
   "name": "python3"
  },
  "language_info": {
   "codemirror_mode": {
    "name": "ipython",
    "version": 3
   },
   "file_extension": ".py",
   "mimetype": "text/x-python",
   "name": "python",
   "nbconvert_exporter": "python",
   "pygments_lexer": "ipython3",
   "version": "3.12.4"
  }
 },
 "nbformat": 4,
 "nbformat_minor": 5
}
