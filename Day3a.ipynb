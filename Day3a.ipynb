{
 "cells": [
  {
   "cell_type": "markdown",
   "id": "5214c423-5bad-4e29-914a-d0f65a48d182",
   "metadata": {},
   "source": [
    "Sort list"
   ]
  },
  {
   "cell_type": "code",
   "execution_count": 2,
   "id": "627d8e13-dbb3-48b0-b927-b2e1c0533466",
   "metadata": {},
   "outputs": [
    {
     "data": {
      "text/plain": [
       "['Apr', 'Feb', 'Jan', 'Mar']"
      ]
     },
     "execution_count": 2,
     "metadata": {},
     "output_type": "execute_result"
    }
   ],
   "source": [
    "month_list=[\"Jan\",\"Feb\",\"Mar\",\"Apr\"] #alphabetically sorting\n",
    "month_list.sort()\n",
    "month_list"
   ]
  },
  {
   "cell_type": "code",
   "execution_count": 4,
   "id": "51605d3a-7b91-4264-ac9b-9b2aa54dc7a7",
   "metadata": {},
   "outputs": [
    {
     "data": {
      "text/plain": [
       "[1, 6, 7, 22, 25, 88, 99]"
      ]
     },
     "execution_count": 4,
     "metadata": {},
     "output_type": "execute_result"
    }
   ],
   "source": [
    "number_sorting=[1,25, 6, 7, 99, 88,22]\n",
    "number_sorting.sort()\n",
    "number_sorting"
   ]
  },
  {
   "cell_type": "code",
   "execution_count": 5,
   "id": "cf8659c8-28f0-4b64-b8ec-ca42d3e61fb7",
   "metadata": {},
   "outputs": [
    {
     "data": {
      "text/plain": [
       "['Mar', 'Jan', 'Feb', 'Apr']"
      ]
     },
     "execution_count": 5,
     "metadata": {},
     "output_type": "execute_result"
    }
   ],
   "source": [
    "month_list.sort(reverse= 'True')\n",
    "month_list"
   ]
  },
  {
   "cell_type": "code",
   "execution_count": 6,
   "id": "98117669-6fba-4a1d-8e5c-f60c32edf9b5",
   "metadata": {},
   "outputs": [
    {
     "data": {
      "text/plain": [
       "['Chicago', 'Kathmandu', 'New York', 'beiging', 'lahore', 'mumbai']"
      ]
     },
     "execution_count": 6,
     "metadata": {},
     "output_type": "execute_result"
    }
   ],
   "source": [
    "cities_list=['Kathmandu', 'beiging', 'mumbai','lahore', 'Chicago', 'New York']\n",
    "cities_list.sort()\n",
    "cities_list"
   ]
  },
  {
   "cell_type": "code",
   "execution_count": 7,
   "id": "5d032b7d-d98e-4e0f-9345-c3fca0b41f93",
   "metadata": {},
   "outputs": [
    {
     "data": {
      "text/plain": [
       "['mumbai', 'lahore', 'beiging', 'New York', 'Kathmandu', 'Chicago']"
      ]
     },
     "execution_count": 7,
     "metadata": {},
     "output_type": "execute_result"
    }
   ],
   "source": [
    "cities_list.sort(reverse='True')\n",
    "cities_list"
   ]
  },
  {
   "cell_type": "code",
   "execution_count": null,
   "id": "a4577f9a-ca70-4182-8cdd-b1799651e40c",
   "metadata": {},
   "outputs": [],
   "source": []
  }
 ],
 "metadata": {
  "kernelspec": {
   "display_name": "Python 3 (ipykernel)",
   "language": "python",
   "name": "python3"
  },
  "language_info": {
   "codemirror_mode": {
    "name": "ipython",
    "version": 3
   },
   "file_extension": ".py",
   "mimetype": "text/x-python",
   "name": "python",
   "nbconvert_exporter": "python",
   "pygments_lexer": "ipython3",
   "version": "3.12.4"
  }
 },
 "nbformat": 4,
 "nbformat_minor": 5
}
