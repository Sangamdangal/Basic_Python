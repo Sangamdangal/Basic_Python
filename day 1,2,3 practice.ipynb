{
 "cells": [
  {
   "cell_type": "markdown",
   "id": "f654946e-0b83-4e8e-9575-8f3b5bd69075",
   "metadata": {},
   "source": [
    "Python Lists"
   ]
  },
  {
   "cell_type": "code",
   "execution_count": 3,
   "id": "e64fa4b1-ce8d-4820-9576-304b920de9b7",
   "metadata": {},
   "outputs": [
    {
     "name": "stdout",
     "output_type": "stream",
     "text": [
      "['apple', 'mango', 'banana', 'apple']\n"
     ]
    }
   ],
   "source": [
    "mylist = ['apple', 'mango', 'banana','apple'] #list allows duplicate values\n",
    "print(mylist)"
   ]
  },
  {
   "cell_type": "code",
   "execution_count": 5,
   "id": "e85bf4b0-9939-4556-a788-1847823a4bd6",
   "metadata": {},
   "outputs": [
    {
     "name": "stdout",
     "output_type": "stream",
     "text": [
      "4\n"
     ]
    }
   ],
   "source": [
    "print(len(mylist)) #no of items in the list"
   ]
  },
  {
   "cell_type": "markdown",
   "id": "3b3a276f-3f86-41df-81c6-faf2324d6abb",
   "metadata": {},
   "source": [
    "List items- Data types"
   ]
  },
  {
   "cell_type": "code",
   "execution_count": 12,
   "id": "c7893b04-c35c-4fa0-b55f-717837ee71df",
   "metadata": {},
   "outputs": [
    {
     "name": "stdout",
     "output_type": "stream",
     "text": [
      "<class 'list'>\n"
     ]
    }
   ],
   "source": [
    "list1 = ['apple', 'mango', 'banana']\n",
    "list2 = [1,2,5,9,3]\n",
    "list3 = [True, False, True]\n",
    "list4 = ['Hello', 3, True, 55, 'Male'] #list with integers and boolean values\n",
    "\n",
    "print(type(list1))"
   ]
  },
  {
   "cell_type": "code",
   "execution_count": 14,
   "id": "c936054b-e71c-4650-b52d-bf4ca054249b",
   "metadata": {},
   "outputs": [
    {
     "name": "stdout",
     "output_type": "stream",
     "text": [
      "['apple', 'mango', 'banana']\n"
     ]
    }
   ],
   "source": [
    "list1 = list(('apple', 'mango', 'banana'))\n",
    "print(list1)"
   ]
  },
  {
   "cell_type": "code",
   "execution_count": 22,
   "id": "568fabef-8bc0-44e2-92f6-c56709c39d71",
   "metadata": {},
   "outputs": [
    {
     "name": "stdout",
     "output_type": "stream",
     "text": [
      "range(0, 6)\n"
     ]
    }
   ],
   "source": [
    "x=range(6)\n",
    "print(x)"
   ]
  },
  {
   "cell_type": "code",
   "execution_count": 29,
   "id": "179fde8d-25d4-4210-aa4f-cafa1be0b33b",
   "metadata": {},
   "outputs": [
    {
     "name": "stdout",
     "output_type": "stream",
     "text": [
      "{'name': 'John', 'age': 23}\n"
     ]
    }
   ],
   "source": [
    "x={\"name\":\"John\", \"age\": 23} #dict\n",
    "print(x)"
   ]
  },
  {
   "cell_type": "code",
   "execution_count": 31,
   "id": "c4110276-1d46-4503-a366-7590b52e34c1",
   "metadata": {},
   "outputs": [
    {
     "name": "stdout",
     "output_type": "stream",
     "text": [
      "{'apple', 'mango', 'banana'}\n"
     ]
    }
   ],
   "source": [
    "x={'apple', 'mango', 'banana'} #set\n",
    "print(x)"
   ]
  },
  {
   "cell_type": "code",
   "execution_count": 33,
   "id": "20c4e960-bbc6-4949-8c48-e01a90a7f24a",
   "metadata": {},
   "outputs": [
    {
     "name": "stdout",
     "output_type": "stream",
     "text": [
      "frozenset({'apple', 'cherry', 'banana'})\n"
     ]
    }
   ],
   "source": [
    "x = frozenset({\"apple\", \"banana\", \"cherry\"}) #its elements cannot be changed after creation\n",
    "print(x)"
   ]
  },
  {
   "cell_type": "code",
   "execution_count": 42,
   "id": "e8b734b6-c6c3-4927-b502-117f857d401b",
   "metadata": {},
   "outputs": [
    {
     "name": "stdout",
     "output_type": "stream",
     "text": [
      "Hello World\n"
     ]
    }
   ],
   "source": [
    "txt = \" Hello World \"  #removes any whitespace from the beginning or the end\n",
    "x=txt.strip()\n",
    "print(x)"
   ]
  },
  {
   "cell_type": "code",
   "execution_count": 3,
   "id": "e1a08732-9359-4cd6-85a6-6ecd1b30f906",
   "metadata": {},
   "outputs": [
    {
     "name": "stdout",
     "output_type": "stream",
     "text": [
      "True\n",
      "True\n"
     ]
    }
   ],
   "source": [
    "#boolean\n",
    "print(bool(\"Hello\"))\n",
    "print(bool(15))"
   ]
  },
  {
   "cell_type": "code",
   "execution_count": 4,
   "id": "3ef4983e-6720-422b-821f-c4ff88530ada",
   "metadata": {},
   "outputs": [
    {
     "name": "stdout",
     "output_type": "stream",
     "text": [
      "True\n",
      "True\n"
     ]
    }
   ],
   "source": [
    "#boolean\n",
    "x = \"Hello\"\n",
    "y = 15\n",
    "\n",
    "print(bool(x))\n",
    "print(bool(y))"
   ]
  },
  {
   "cell_type": "code",
   "execution_count": 5,
   "id": "c3152394-03d3-4509-a77c-801121649b06",
   "metadata": {},
   "outputs": [
    {
     "name": "stdout",
     "output_type": "stream",
     "text": [
      "True\n"
     ]
    }
   ],
   "source": [
    "print(5>3)"
   ]
  },
  {
   "cell_type": "code",
   "execution_count": 6,
   "id": "99c0d1a9-4200-4d19-bad1-500954c0a7ea",
   "metadata": {},
   "outputs": [
    {
     "name": "stdout",
     "output_type": "stream",
     "text": [
      "['apple', 'banana']\n"
     ]
    }
   ],
   "source": [
    "thislist = [\"apple\", \"banana\", \"cherry\"] #remove list items\n",
    "thislist.pop()\n",
    "print(thislist)"
   ]
  },
  {
   "cell_type": "code",
   "execution_count": 8,
   "id": "dff9127a-001e-427b-b2e1-af956321f2d4",
   "metadata": {},
   "outputs": [
    {
     "name": "stdout",
     "output_type": "stream",
     "text": [
      "['banana', 'cherry']\n"
     ]
    }
   ],
   "source": [
    "thislist = [\"apple\", \"banana\", \"cherry\"] #remove first, del is also used\n",
    "del thislist[0]\n",
    "print(thislist)"
   ]
  },
  {
   "cell_type": "code",
   "execution_count": null,
   "id": "d8dcb1c3-f8e5-40b1-8315-57558a571b20",
   "metadata": {},
   "outputs": [],
   "source": []
  }
 ],
 "metadata": {
  "kernelspec": {
   "display_name": "Python 3 (ipykernel)",
   "language": "python",
   "name": "python3"
  },
  "language_info": {
   "codemirror_mode": {
    "name": "ipython",
    "version": 3
   },
   "file_extension": ".py",
   "mimetype": "text/x-python",
   "name": "python",
   "nbconvert_exporter": "python",
   "pygments_lexer": "ipython3",
   "version": "3.12.4"
  }
 },
 "nbformat": 4,
 "nbformat_minor": 5
}
