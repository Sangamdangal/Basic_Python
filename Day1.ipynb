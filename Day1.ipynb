{
 "cells": [
  {
   "cell_type": "code",
   "execution_count": 46,
   "id": "8d62e577-a7c4-4542-8619-4fb499ce7cea",
   "metadata": {},
   "outputs": [
    {
     "name": "stdout",
     "output_type": "stream",
     "text": [
      "Hello World\n"
     ]
    }
   ],
   "source": [
    "print(\"Hello World\")"
   ]
  },
  {
   "cell_type": "code",
   "execution_count": 47,
   "id": "753c8984-03b6-4848-b46d-3a53ec1ff0ad",
   "metadata": {},
   "outputs": [
    {
     "name": "stdout",
     "output_type": "stream",
     "text": [
      "I love python language\n"
     ]
    }
   ],
   "source": [
    "print('I love python language')"
   ]
  },
  {
   "cell_type": "code",
   "execution_count": 48,
   "id": "b16980d5-db4d-4982-99b7-2e654cd4084c",
   "metadata": {},
   "outputs": [],
   "source": [
    "#Python is a versatile and high-level programming language known for its readability and simplicity."
   ]
  },
  {
   "cell_type": "code",
   "execution_count": 49,
   "id": "dd431582-3eba-47bc-8ae9-61675ed58155",
   "metadata": {},
   "outputs": [
    {
     "data": {
      "text/plain": [
       "'Python is a versatile \\nand high-level programming language \\nknown for its readability and simplicity'"
      ]
     },
     "execution_count": 49,
     "metadata": {},
     "output_type": "execute_result"
    }
   ],
   "source": [
    "\"\"\"Python is a versatile \n",
    "and high-level programming language \n",
    "known for its readability and simplicity\"\"\""
   ]
  },
  {
   "cell_type": "code",
   "execution_count": 50,
   "id": "9d8d99ac-95f9-4f0f-9634-0db97331d9d5",
   "metadata": {},
   "outputs": [
    {
     "name": "stdout",
     "output_type": "stream",
     "text": [
      "x= 2\n",
      "X= 5\n"
     ]
    }
   ],
   "source": [
    "x=2\n",
    "X=5\n",
    "print('x=', x)\n",
    "print('X=', X)"
   ]
  },
  {
   "cell_type": "code",
   "execution_count": 51,
   "id": "15c76671-c334-468b-a7ac-38b5ff2d4d25",
   "metadata": {},
   "outputs": [
    {
     "name": "stdout",
     "output_type": "stream",
     "text": [
      "language: python\n",
      "name: John\n"
     ]
    }
   ],
   "source": [
    "language= \"python\"\n",
    "name= 'John'\n",
    "print('language:', language)\n",
    "print('name:', name)"
   ]
  },
  {
   "cell_type": "code",
   "execution_count": 52,
   "id": "0250bb8c-7938-495c-acc4-16128526fbe3",
   "metadata": {},
   "outputs": [
    {
     "ename": "SyntaxError",
     "evalue": "invalid decimal literal (2606913863.py, line 1)",
     "output_type": "error",
     "traceback": [
      "\u001b[1;36m  Cell \u001b[1;32mIn[52], line 1\u001b[1;36m\u001b[0m\n\u001b[1;33m    7name='harry' #Variable names must start with a letter or an underscore.\u001b[0m\n\u001b[1;37m    ^\u001b[0m\n\u001b[1;31mSyntaxError\u001b[0m\u001b[1;31m:\u001b[0m invalid decimal literal\n"
     ]
    }
   ],
   "source": [
    "7name='harry' #Variable names must start with a letter or an underscore."
   ]
  },
  {
   "cell_type": "code",
   "execution_count": 57,
   "id": "c460607e-609e-4169-94c9-b2aa62015734",
   "metadata": {},
   "outputs": [],
   "source": [
    "_age=22\n",
    "name= 'Sangam'"
   ]
  },
  {
   "cell_type": "code",
   "execution_count": 53,
   "id": "b004cfaf-df3f-4b13-9bee-b3089862986c",
   "metadata": {},
   "outputs": [
    {
     "name": "stdout",
     "output_type": "stream",
     "text": [
      "Name: Sangam\n",
      "Age: 22\n"
     ]
    }
   ],
   "source": [
    "name='Sangam'\n",
    "age='22'\n",
    "print('Name:', name)\n",
    "print('Age:', age)"
   ]
  },
  {
   "cell_type": "code",
   "execution_count": 54,
   "id": "773e680a-1364-4396-8c04-89283aceec0a",
   "metadata": {},
   "outputs": [
    {
     "name": "stdout",
     "output_type": "stream",
     "text": [
      "Type of name variable: <class 'str'>\n",
      "Type of my_info variable: <class 'dict'>\n",
      "Type of fruit variable: <class 'list'>\n"
     ]
    }
   ],
   "source": [
    "name= \"sangam\"\n",
    "my_info={name:\"sam\", \"age\":25}\n",
    "fruit=[\"apple\", \"pear\"]\n",
    "print(\"Type of name variable:\",type(name))\n",
    "print(\"Type of my_info variable:\",type(my_info))\n",
    "print(\"Type of fruit variable:\",type(fruit))"
   ]
  },
  {
   "cell_type": "code",
   "execution_count": 55,
   "id": "5407c9f2-1c69-4e89-a964-70fd63039724",
   "metadata": {},
   "outputs": [
    {
     "name": "stdout",
     "output_type": "stream",
     "text": [
      "<class 'int'>\n",
      "<class 'str'>\n",
      "<class 'str'>\n"
     ]
    }
   ],
   "source": [
    "int_var=int(2.53)\n",
    "str_var=str(45)\n",
    "float_var=\"3.14\" \n",
    "print(type(int_var))\n",
    "print(type(str_var))\n",
    "print(type(float_var))"
   ]
  }
 ],
 "metadata": {
  "kernelspec": {
   "display_name": "Python 3 (ipykernel)",
   "language": "python",
   "name": "python3"
  },
  "language_info": {
   "codemirror_mode": {
    "name": "ipython",
    "version": 3
   },
   "file_extension": ".py",
   "mimetype": "text/x-python",
   "name": "python",
   "nbconvert_exporter": "python",
   "pygments_lexer": "ipython3",
   "version": "3.12.4"
  }
 },
 "nbformat": 4,
 "nbformat_minor": 5
}
